{
 "cells": [
  {
   "cell_type": "code",
   "execution_count": 1,
   "id": "59cf3af9",
   "metadata": {
    "execution": {
     "iopub.execute_input": "2022-09-08T13:13:22.407098Z",
     "iopub.status.busy": "2022-09-08T13:13:22.406354Z",
     "iopub.status.idle": "2022-09-08T13:13:23.590780Z",
     "shell.execute_reply": "2022-09-08T13:13:23.589877Z",
     "shell.execute_reply.started": "2022-09-08T12:17:43.151889Z"
    },
    "id": "87af32fd",
    "papermill": {
     "duration": 1.301828,
     "end_time": "2022-09-08T13:13:23.590995",
     "exception": false,
     "start_time": "2022-09-08T13:13:22.289167",
     "status": "completed"
    },
    "tags": []
   },
   "outputs": [],
   "source": [
    "import pandas as pd\n",
    "import numpy as np\n",
    "import seaborn as sb\n",
    "import matplotlib.pyplot as plt\n",
    "plt.style.use('fivethirtyeight')\n",
    "import os\n",
    "%matplotlib inline "
   ]
  },
  {
   "cell_type": "code",
   "execution_count": 2,
   "id": "5d8e93c0",
   "metadata": {
    "execution": {
     "iopub.execute_input": "2022-09-08T13:13:24.232553Z",
     "iopub.status.busy": "2022-09-08T13:13:24.231644Z",
     "iopub.status.idle": "2022-09-08T13:13:31.622907Z",
     "shell.execute_reply": "2022-09-08T13:13:31.622245Z",
     "shell.execute_reply.started": "2022-09-08T12:17:44.344107Z"
    },
    "id": "6eba6828",
    "outputId": "2e29a72c-b3d8-447f-ecc7-ca899ef4c4c2",
    "papermill": {
     "duration": 7.495793,
     "end_time": "2022-09-08T13:13:31.623069",
     "exception": false,
     "start_time": "2022-09-08T13:13:24.127276",
     "status": "completed"
    },
    "tags": []
   },
   "outputs": [],
   "source": [
    "train_data = pd.read_csv('C:/Users/JOVIALN/Desktop/2022A8017729006_JOVIAL_NIYOGISUBIZO/2022A8017729006_JOVIAL_NIYOGISUBIZO/train.csv',header = None)"
   ]
  },
  {
   "cell_type": "code",
   "execution_count": 3,
   "id": "e0eed1cd",
   "metadata": {
    "execution": {
     "iopub.execute_input": "2022-09-08T13:13:31.858221Z",
     "iopub.status.busy": "2022-09-08T13:13:31.857457Z",
     "iopub.status.idle": "2022-09-08T13:13:36.058192Z",
     "shell.execute_reply": "2022-09-08T13:13:36.057585Z",
     "shell.execute_reply.started": "2022-09-08T12:17:52.123322Z"
    },
    "id": "b6fc1caa",
    "papermill": {
     "duration": 4.326843,
     "end_time": "2022-09-08T13:13:36.058359",
     "exception": false,
     "start_time": "2022-09-08T13:13:31.731516",
     "status": "completed"
    },
    "tags": []
   },
   "outputs": [],
   "source": [
    "test_data = pd.read_csv('C:/Users/JOVIALN/Desktop/2022A8017729006_JOVIAL_NIYOGISUBIZO/2022A8017729006_JOVIAL_NIYOGISUBIZO/test.csv', header = None) "
   ]
  },
  {
   "cell_type": "code",
   "execution_count": 4,
   "id": "da657dbc",
   "metadata": {
    "execution": {
     "iopub.execute_input": "2022-09-08T13:13:36.269535Z",
     "iopub.status.busy": "2022-09-08T13:13:36.268753Z",
     "iopub.status.idle": "2022-09-08T13:13:36.284739Z",
     "shell.execute_reply": "2022-09-08T13:13:36.285428Z",
     "shell.execute_reply.started": "2022-09-08T12:17:56.447783Z"
    },
    "id": "e6cf04e2",
    "papermill": {
     "duration": 0.124448,
     "end_time": "2022-09-08T13:13:36.285618",
     "exception": false,
     "start_time": "2022-09-08T13:13:36.161170",
     "status": "completed"
    },
    "tags": []
   },
   "outputs": [],
   "source": [
    "train_target = train_data[205].value_counts()"
   ]
  },
  {
   "cell_type": "code",
   "execution_count": 5,
   "id": "6d55e9b9",
   "metadata": {
    "execution": {
     "iopub.execute_input": "2022-09-08T13:13:36.496368Z",
     "iopub.status.busy": "2022-09-08T13:13:36.495658Z",
     "iopub.status.idle": "2022-09-08T13:13:36.506149Z",
     "shell.execute_reply": "2022-09-08T13:13:36.505597Z",
     "shell.execute_reply.started": "2022-09-08T12:17:56.468777Z"
    },
    "id": "5eaee0b7",
    "papermill": {
     "duration": 0.114741,
     "end_time": "2022-09-08T13:13:36.506300",
     "exception": false,
     "start_time": "2022-09-08T13:13:36.391559",
     "status": "completed"
    },
    "tags": []
   },
   "outputs": [
    {
     "data": {
      "text/plain": [
       "0    51393\n",
       "3    14369\n",
       "2    11406\n",
       "1     2832\n",
       "Name: 205, dtype: int64"
      ]
     },
     "execution_count": 5,
     "metadata": {},
     "output_type": "execute_result"
    }
   ],
   "source": [
    "train_target"
   ]
  },
  {
   "cell_type": "code",
   "execution_count": 6,
   "id": "3b771012",
   "metadata": {
    "execution": {
     "iopub.execute_input": "2022-09-08T13:13:36.721848Z",
     "iopub.status.busy": "2022-09-08T13:13:36.721148Z",
     "iopub.status.idle": "2022-09-08T13:13:36.906401Z",
     "shell.execute_reply": "2022-09-08T13:13:36.905592Z",
     "shell.execute_reply.started": "2022-09-08T12:17:56.487048Z"
    },
    "id": "ec930b55",
    "papermill": {
     "duration": 0.297617,
     "end_time": "2022-09-08T13:13:36.906560",
     "exception": false,
     "start_time": "2022-09-08T13:13:36.608943",
     "status": "completed"
    },
    "tags": []
   },
   "outputs": [
    {
     "data": {
      "image/png": "[encoded data removed]",
      "text/plain": [
       "<Figure size 432x288 with 1 Axes>"
      ]
     },
     "metadata": {
      "needs_background": "light"
     },
     "output_type": "display_data"
    }
   ],
   "source": [
    "plt.bar(train_target.index,train_target.values, color = sb.color_palette()[4]);"
   ]
  },
  {
   "cell_type": "code",
   "execution_count": 7,
   "id": "87a89e20",
   "metadata": {
    "execution": {
     "iopub.execute_input": "2022-09-08T13:13:37.119671Z",
     "iopub.status.busy": "2022-09-08T13:13:37.118885Z",
     "iopub.status.idle": "2022-09-08T13:13:37.130682Z",
     "shell.execute_reply": "2022-09-08T13:13:37.131428Z",
     "shell.execute_reply.started": "2022-09-08T12:17:56.729904Z"
    },
    "id": "aa45314f",
    "papermill": {
     "duration": 0.120711,
     "end_time": "2022-09-08T13:13:37.131642",
     "exception": false,
     "start_time": "2022-09-08T13:13:37.010931",
     "status": "completed"
    },
    "tags": []
   },
   "outputs": [],
   "source": [
    "np.random.seed(42)\n",
    "sample = np.random.choice(train_data.shape[0], 80000, replace = False)\n",
    "subset = train_data.loc[sample]"
   ]
  },
  {
   "cell_type": "code",
   "execution_count": 8,
   "id": "b68bfe61",
   "metadata": {
    "execution": {
     "iopub.execute_input": "2022-09-08T13:13:37.553421Z",
     "iopub.status.busy": "2022-09-08T13:13:37.552714Z",
     "iopub.status.idle": "2022-09-08T13:13:37.587162Z",
     "shell.execute_reply": "2022-09-08T13:13:37.587742Z",
     "shell.execute_reply.started": "2022-09-08T12:17:56.744104Z"
    },
    "id": "11de9ef7",
    "papermill": {
     "duration": 0.141559,
     "end_time": "2022-09-08T13:13:37.587948",
     "exception": false,
     "start_time": "2022-09-08T13:13:37.446389",
     "status": "completed"
    },
    "tags": []
   },
   "outputs": [
    {
     "data": {
      "text/html": [
       "<div>\n",
       "<style scoped>\n",
       "    .dataframe tbody tr th:only-of-type {\n",
       "        vertical-align: middle;\n",
       "    }\n",
       "\n",
       "    .dataframe tbody tr th {\n",
       "        vertical-align: top;\n",
       "    }\n",
       "\n",
       "    .dataframe thead th {\n",
       "        text-align: right;\n",
       "    }\n",
       "</style>\n",
       "<table border=\"1\" class=\"dataframe\">\n",
       "  <thead>\n",
       "    <tr style=\"text-align: right;\">\n",
       "      <th></th>\n",
       "      <th>0</th>\n",
       "      <th>1</th>\n",
       "      <th>2</th>\n",
       "      <th>3</th>\n",
       "      <th>4</th>\n",
       "      <th>5</th>\n",
       "      <th>6</th>\n",
       "      <th>7</th>\n",
       "      <th>8</th>\n",
       "      <th>9</th>\n",
       "      <th>...</th>\n",
       "      <th>196</th>\n",
       "      <th>197</th>\n",
       "      <th>198</th>\n",
       "      <th>199</th>\n",
       "      <th>200</th>\n",
       "      <th>201</th>\n",
       "      <th>202</th>\n",
       "      <th>203</th>\n",
       "      <th>204</th>\n",
       "      <th>205</th>\n",
       "    </tr>\n",
       "  </thead>\n",
       "  <tbody>\n",
       "    <tr>\n",
       "      <th>47044</th>\n",
       "      <td>1.000000</td>\n",
       "      <td>0.992223</td>\n",
       "      <td>0.787271</td>\n",
       "      <td>0.532304</td>\n",
       "      <td>0.318822</td>\n",
       "      <td>0.175087</td>\n",
       "      <td>0.202308</td>\n",
       "      <td>0.248744</td>\n",
       "      <td>0.215729</td>\n",
       "      <td>0.209034</td>\n",
       "      <td>...</td>\n",
       "      <td>0.0</td>\n",
       "      <td>0.0</td>\n",
       "      <td>0.0</td>\n",
       "      <td>0.0</td>\n",
       "      <td>0.0</td>\n",
       "      <td>0.0</td>\n",
       "      <td>0.0</td>\n",
       "      <td>0.0</td>\n",
       "      <td>0.0</td>\n",
       "      <td>0</td>\n",
       "    </tr>\n",
       "    <tr>\n",
       "      <th>44295</th>\n",
       "      <td>1.000000</td>\n",
       "      <td>0.909560</td>\n",
       "      <td>0.571542</td>\n",
       "      <td>0.289507</td>\n",
       "      <td>0.138414</td>\n",
       "      <td>0.092170</td>\n",
       "      <td>0.039528</td>\n",
       "      <td>0.024832</td>\n",
       "      <td>0.039528</td>\n",
       "      <td>0.049244</td>\n",
       "      <td>...</td>\n",
       "      <td>0.0</td>\n",
       "      <td>0.0</td>\n",
       "      <td>0.0</td>\n",
       "      <td>0.0</td>\n",
       "      <td>0.0</td>\n",
       "      <td>0.0</td>\n",
       "      <td>0.0</td>\n",
       "      <td>0.0</td>\n",
       "      <td>0.0</td>\n",
       "      <td>0</td>\n",
       "    </tr>\n",
       "    <tr>\n",
       "      <th>74783</th>\n",
       "      <td>0.960221</td>\n",
       "      <td>0.923617</td>\n",
       "      <td>0.880140</td>\n",
       "      <td>0.827543</td>\n",
       "      <td>0.754126</td>\n",
       "      <td>0.658124</td>\n",
       "      <td>0.555029</td>\n",
       "      <td>0.465984</td>\n",
       "      <td>0.389532</td>\n",
       "      <td>0.354443</td>\n",
       "      <td>...</td>\n",
       "      <td>0.0</td>\n",
       "      <td>0.0</td>\n",
       "      <td>0.0</td>\n",
       "      <td>0.0</td>\n",
       "      <td>0.0</td>\n",
       "      <td>0.0</td>\n",
       "      <td>0.0</td>\n",
       "      <td>0.0</td>\n",
       "      <td>0.0</td>\n",
       "      <td>3</td>\n",
       "    </tr>\n",
       "    <tr>\n",
       "      <th>70975</th>\n",
       "      <td>0.955700</td>\n",
       "      <td>0.592401</td>\n",
       "      <td>0.638131</td>\n",
       "      <td>0.657677</td>\n",
       "      <td>0.686273</td>\n",
       "      <td>0.721421</td>\n",
       "      <td>0.742600</td>\n",
       "      <td>0.689745</td>\n",
       "      <td>0.587404</td>\n",
       "      <td>0.422302</td>\n",
       "      <td>...</td>\n",
       "      <td>0.0</td>\n",
       "      <td>0.0</td>\n",
       "      <td>0.0</td>\n",
       "      <td>0.0</td>\n",
       "      <td>0.0</td>\n",
       "      <td>0.0</td>\n",
       "      <td>0.0</td>\n",
       "      <td>0.0</td>\n",
       "      <td>0.0</td>\n",
       "      <td>3</td>\n",
       "    </tr>\n",
       "    <tr>\n",
       "      <th>46645</th>\n",
       "      <td>1.000000</td>\n",
       "      <td>0.963278</td>\n",
       "      <td>0.195981</td>\n",
       "      <td>0.141661</td>\n",
       "      <td>0.078003</td>\n",
       "      <td>0.015186</td>\n",
       "      <td>0.011405</td>\n",
       "      <td>0.056143</td>\n",
       "      <td>0.056143</td>\n",
       "      <td>0.117238</td>\n",
       "      <td>...</td>\n",
       "      <td>0.0</td>\n",
       "      <td>0.0</td>\n",
       "      <td>0.0</td>\n",
       "      <td>0.0</td>\n",
       "      <td>0.0</td>\n",
       "      <td>0.0</td>\n",
       "      <td>0.0</td>\n",
       "      <td>0.0</td>\n",
       "      <td>0.0</td>\n",
       "      <td>0</td>\n",
       "    </tr>\n",
       "    <tr>\n",
       "      <th>...</th>\n",
       "      <td>...</td>\n",
       "      <td>...</td>\n",
       "      <td>...</td>\n",
       "      <td>...</td>\n",
       "      <td>...</td>\n",
       "      <td>...</td>\n",
       "      <td>...</td>\n",
       "      <td>...</td>\n",
       "      <td>...</td>\n",
       "      <td>...</td>\n",
       "      <td>...</td>\n",
       "      <td>...</td>\n",
       "      <td>...</td>\n",
       "      <td>...</td>\n",
       "      <td>...</td>\n",
       "      <td>...</td>\n",
       "      <td>...</td>\n",
       "      <td>...</td>\n",
       "      <td>...</td>\n",
       "      <td>...</td>\n",
       "      <td>...</td>\n",
       "    </tr>\n",
       "    <tr>\n",
       "      <th>6265</th>\n",
       "      <td>1.000000</td>\n",
       "      <td>0.906603</td>\n",
       "      <td>0.653642</td>\n",
       "      <td>0.448033</td>\n",
       "      <td>0.386770</td>\n",
       "      <td>0.419338</td>\n",
       "      <td>0.386770</td>\n",
       "      <td>0.373534</td>\n",
       "      <td>0.363527</td>\n",
       "      <td>0.363527</td>\n",
       "      <td>...</td>\n",
       "      <td>0.0</td>\n",
       "      <td>0.0</td>\n",
       "      <td>0.0</td>\n",
       "      <td>0.0</td>\n",
       "      <td>0.0</td>\n",
       "      <td>0.0</td>\n",
       "      <td>0.0</td>\n",
       "      <td>0.0</td>\n",
       "      <td>0.0</td>\n",
       "      <td>0</td>\n",
       "    </tr>\n",
       "    <tr>\n",
       "      <th>54886</th>\n",
       "      <td>1.000000</td>\n",
       "      <td>0.947533</td>\n",
       "      <td>0.768994</td>\n",
       "      <td>0.608327</td>\n",
       "      <td>0.367143</td>\n",
       "      <td>0.145511</td>\n",
       "      <td>0.037777</td>\n",
       "      <td>0.034906</td>\n",
       "      <td>0.049204</td>\n",
       "      <td>0.113211</td>\n",
       "      <td>...</td>\n",
       "      <td>0.0</td>\n",
       "      <td>0.0</td>\n",
       "      <td>0.0</td>\n",
       "      <td>0.0</td>\n",
       "      <td>0.0</td>\n",
       "      <td>0.0</td>\n",
       "      <td>0.0</td>\n",
       "      <td>0.0</td>\n",
       "      <td>0.0</td>\n",
       "      <td>0</td>\n",
       "    </tr>\n",
       "    <tr>\n",
       "      <th>76820</th>\n",
       "      <td>0.923440</td>\n",
       "      <td>0.877664</td>\n",
       "      <td>0.830389</td>\n",
       "      <td>0.792195</td>\n",
       "      <td>0.727889</td>\n",
       "      <td>0.645665</td>\n",
       "      <td>0.538997</td>\n",
       "      <td>0.394789</td>\n",
       "      <td>0.283554</td>\n",
       "      <td>0.214471</td>\n",
       "      <td>...</td>\n",
       "      <td>0.0</td>\n",
       "      <td>0.0</td>\n",
       "      <td>0.0</td>\n",
       "      <td>0.0</td>\n",
       "      <td>0.0</td>\n",
       "      <td>0.0</td>\n",
       "      <td>0.0</td>\n",
       "      <td>0.0</td>\n",
       "      <td>0.0</td>\n",
       "      <td>3</td>\n",
       "    </tr>\n",
       "    <tr>\n",
       "      <th>860</th>\n",
       "      <td>1.000000</td>\n",
       "      <td>0.848745</td>\n",
       "      <td>0.267515</td>\n",
       "      <td>0.000000</td>\n",
       "      <td>0.246864</td>\n",
       "      <td>0.256288</td>\n",
       "      <td>0.246864</td>\n",
       "      <td>0.246864</td>\n",
       "      <td>0.244972</td>\n",
       "      <td>0.250641</td>\n",
       "      <td>...</td>\n",
       "      <td>0.0</td>\n",
       "      <td>0.0</td>\n",
       "      <td>0.0</td>\n",
       "      <td>0.0</td>\n",
       "      <td>0.0</td>\n",
       "      <td>0.0</td>\n",
       "      <td>0.0</td>\n",
       "      <td>0.0</td>\n",
       "      <td>0.0</td>\n",
       "      <td>0</td>\n",
       "    </tr>\n",
       "    <tr>\n",
       "      <th>15795</th>\n",
       "      <td>0.962582</td>\n",
       "      <td>0.924169</td>\n",
       "      <td>0.555698</td>\n",
       "      <td>0.012978</td>\n",
       "      <td>0.206161</td>\n",
       "      <td>0.376505</td>\n",
       "      <td>0.470451</td>\n",
       "      <td>0.507604</td>\n",
       "      <td>0.519778</td>\n",
       "      <td>0.534854</td>\n",
       "      <td>...</td>\n",
       "      <td>0.0</td>\n",
       "      <td>0.0</td>\n",
       "      <td>0.0</td>\n",
       "      <td>0.0</td>\n",
       "      <td>0.0</td>\n",
       "      <td>0.0</td>\n",
       "      <td>0.0</td>\n",
       "      <td>0.0</td>\n",
       "      <td>0.0</td>\n",
       "      <td>0</td>\n",
       "    </tr>\n",
       "  </tbody>\n",
       "</table>\n",
       "<p>80000 rows × 206 columns</p>\n",
       "</div>"
      ],
      "text/plain": [
       "            0         1         2         3         4         5         6    \\\n",
       "47044  1.000000  0.992223  0.787271  0.532304  0.318822  0.175087  0.202308   \n",
       "44295  1.000000  0.909560  0.571542  0.289507  0.138414  0.092170  0.039528   \n",
       "74783  0.960221  0.923617  0.880140  0.827543  0.754126  0.658124  0.555029   \n",
       "70975  0.955700  0.592401  0.638131  0.657677  0.686273  0.721421  0.742600   \n",
       "46645  1.000000  0.963278  0.195981  0.141661  0.078003  0.015186  0.011405   \n",
       "...         ...       ...       ...       ...       ...       ...       ...   \n",
       "6265   1.000000  0.906603  0.653642  0.448033  0.386770  0.419338  0.386770   \n",
       "54886  1.000000  0.947533  0.768994  0.608327  0.367143  0.145511  0.037777   \n",
       "76820  0.923440  0.877664  0.830389  0.792195  0.727889  0.645665  0.538997   \n",
       "860    1.000000  0.848745  0.267515  0.000000  0.246864  0.256288  0.246864   \n",
       "15795  0.962582  0.924169  0.555698  0.012978  0.206161  0.376505  0.470451   \n",
       "\n",
       "            7         8         9    ...  196  197  198  199  200  201  202  \\\n",
       "47044  0.248744  0.215729  0.209034  ...  0.0  0.0  0.0  0.0  0.0  0.0  0.0   \n",
       "44295  0.024832  0.039528  0.049244  ...  0.0  0.0  0.0  0.0  0.0  0.0  0.0   \n",
       "74783  0.465984  0.389532  0.354443  ...  0.0  0.0  0.0  0.0  0.0  0.0  0.0   \n",
       "70975  0.689745  0.587404  0.422302  ...  0.0  0.0  0.0  0.0  0.0  0.0  0.0   \n",
       "46645  0.056143  0.056143  0.117238  ...  0.0  0.0  0.0  0.0  0.0  0.0  0.0   \n",
       "...         ...       ...       ...  ...  ...  ...  ...  ...  ...  ...  ...   \n",
       "6265   0.373534  0.363527  0.363527  ...  0.0  0.0  0.0  0.0  0.0  0.0  0.0   \n",
       "54886  0.034906  0.049204  0.113211  ...  0.0  0.0  0.0  0.0  0.0  0.0  0.0   \n",
       "76820  0.394789  0.283554  0.214471  ...  0.0  0.0  0.0  0.0  0.0  0.0  0.0   \n",
       "860    0.246864  0.244972  0.250641  ...  0.0  0.0  0.0  0.0  0.0  0.0  0.0   \n",
       "15795  0.507604  0.519778  0.534854  ...  0.0  0.0  0.0  0.0  0.0  0.0  0.0   \n",
       "\n",
       "       203  204  205  \n",
       "47044  0.0  0.0    0  \n",
       "44295  0.0  0.0    0  \n",
       "74783  0.0  0.0    3  \n",
       "70975  0.0  0.0    3  \n",
       "46645  0.0  0.0    0  \n",
       "...    ...  ...  ...  \n",
       "6265   0.0  0.0    0  \n",
       "54886  0.0  0.0    0  \n",
       "76820  0.0  0.0    3  \n",
       "860    0.0  0.0    0  \n",
       "15795  0.0  0.0    0  \n",
       "\n",
       "[80000 rows x 206 columns]"
      ]
     },
     "execution_count": 8,
     "metadata": {},
     "output_type": "execute_result"
    }
   ],
   "source": [
    "subset"
   ]
  },
  {
   "cell_type": "code",
   "execution_count": 9,
   "id": "17ded59c",
   "metadata": {
    "execution": {
     "iopub.execute_input": "2022-09-08T13:13:37.800779Z",
     "iopub.status.busy": "2022-09-08T13:13:37.800114Z",
     "iopub.status.idle": "2022-09-08T13:13:37.807119Z",
     "shell.execute_reply": "2022-09-08T13:13:37.807663Z",
     "shell.execute_reply.started": "2022-09-08T12:17:56.785155Z"
    },
    "id": "ca276ddc",
    "papermill": {
     "duration": 0.114504,
     "end_time": "2022-09-08T13:13:37.807836",
     "exception": false,
     "start_time": "2022-09-08T13:13:37.693332",
     "status": "completed"
    },
    "tags": []
   },
   "outputs": [
    {
     "data": {
      "text/plain": [
       "64.24125000000001"
      ]
     },
     "execution_count": 9,
     "metadata": {},
     "output_type": "execute_result"
    }
   ],
   "source": [
    "percentages = [count / subset.shape[0] * 100 for count in subset[205].value_counts()]\n",
    "percentages[0]"
   ]
  },
  {
   "cell_type": "code",
   "execution_count": 10,
   "id": "e1ef9928",
   "metadata": {
    "execution": {
     "iopub.execute_input": "2022-09-08T13:13:38.022594Z",
     "iopub.status.busy": "2022-09-08T13:13:38.021875Z",
     "iopub.status.idle": "2022-09-08T13:13:38.028923Z",
     "shell.execute_reply": "2022-09-08T13:13:38.029486Z",
     "shell.execute_reply.started": "2022-09-08T12:17:56.794860Z"
    },
    "id": "adc631dd",
    "papermill": {
     "duration": 0.117004,
     "end_time": "2022-09-08T13:13:38.029668",
     "exception": false,
     "start_time": "2022-09-08T13:13:37.912664",
     "status": "completed"
    },
    "tags": []
   },
   "outputs": [
    {
     "name": "stdout",
     "output_type": "stream",
     "text": [
      "the precent of 0 is : 64.24 %\n",
      "the precent of 3 is : 17.96 %\n",
      "the precent of 2 is : 14.26 %\n",
      "the precent of 1 is : 3.54 %\n"
     ]
    }
   ],
   "source": [
    "for i in np.arange(len(percentages)):\n",
    "    print(f'the precent of {int(train_target.index[i])} is : {np.round(percentages[i], 2) } %')"
   ]
  },
  {
   "cell_type": "code",
   "execution_count": 11,
   "id": "6ba9301b",
   "metadata": {
    "execution": {
     "iopub.execute_input": "2022-09-08T13:13:38.246305Z",
     "iopub.status.busy": "2022-09-08T13:13:38.245609Z",
     "iopub.status.idle": "2022-09-08T13:13:38.410420Z",
     "shell.execute_reply": "2022-09-08T13:13:38.410968Z",
     "shell.execute_reply.started": "2022-09-08T12:17:56.807080Z"
    },
    "id": "56c696df",
    "papermill": {
     "duration": 0.273789,
     "end_time": "2022-09-08T13:13:38.411172",
     "exception": false,
     "start_time": "2022-09-08T13:13:38.137383",
     "status": "completed"
    },
    "tags": []
   },
   "outputs": [
    {
     "data": {
      "image/png": "[encoded data removed]",
      "text/plain": [
       "<Figure size 432x288 with 1 Axes>"
      ]
     },
     "metadata": {
      "needs_background": "light"
     },
     "output_type": "display_data"
    }
   ],
   "source": [
    "base_color = sb.color_palette()[0]\n",
    "type_orderion = subset[205].value_counts().index\n",
    "sb.countplot(data = subset, y = 205, color = base_color, order = type_orderion );\n",
    "plt.xticks(rotation = 90);"
   ]
  },
  {
   "cell_type": "markdown",
   "id": "72c00125",
   "metadata": {
    "id": "d0cf0b15",
    "papermill": {
     "duration": 0.105355,
     "end_time": "2022-09-08T13:13:38.622683",
     "exception": false,
     "start_time": "2022-09-08T13:13:38.517328",
     "status": "completed"
    },
    "tags": []
   },
   "source": [
    "### It looks that the normal cases with zero label posses the most of the dataset with 64.24 %\n",
    "### hence we will make a balancing as each vector will posses an equal distribution for efficiency 👌 and make \n",
    "###    it More convenient 🙂 😎"
   ]
  },
  {
   "cell_type": "code",
   "execution_count": 12,
   "id": "8a992813",
   "metadata": {
    "execution": {
     "iopub.execute_input": "2022-09-08T13:13:38.840637Z",
     "iopub.status.busy": "2022-09-08T13:13:38.839626Z",
     "iopub.status.idle": "2022-09-08T13:13:39.237843Z",
     "shell.execute_reply": "2022-09-08T13:13:39.237065Z",
     "shell.execute_reply.started": "2022-09-08T12:17:57.025794Z"
    },
    "id": "56c35e9c",
    "papermill": {
     "duration": 0.507488,
     "end_time": "2022-09-08T13:13:39.238015",
     "exception": false,
     "start_time": "2022-09-08T13:13:38.730527",
     "status": "completed"
    },
    "tags": []
   },
   "outputs": [],
   "source": [
    "from sklearn.utils import resample\n",
    "target1=train_data[train_data[205]==1]\n",
    "target2=train_data[train_data[205]==2]\n",
    "target3=train_data[train_data[205]==3]\n",
    "target0=(train_data[train_data[205]==0]).sample(n=20000,random_state=42)\n",
    "\n",
    "target1_sample=resample(target1,replace=True,n_samples=20000,random_state=0)\n",
    "target2_sample=resample(target2,replace=True,n_samples=20000,random_state=0)\n",
    "target3_sample=resample(target3,replace=True,n_samples=20000,random_state=0)\n",
    "\n",
    "train_data=pd.concat([target0,target1_sample,target2_sample,target3_sample])\n"
   ]
  },
  {
   "cell_type": "code",
   "execution_count": 13,
   "id": "40293f7a",
   "metadata": {
    "execution": {
     "iopub.execute_input": "2022-09-08T13:13:39.459996Z",
     "iopub.status.busy": "2022-09-08T13:13:39.458757Z",
     "iopub.status.idle": "2022-09-08T13:13:39.463880Z",
     "shell.execute_reply": "2022-09-08T13:13:39.464586Z",
     "shell.execute_reply.started": "2022-09-08T12:17:57.418589Z"
    },
    "id": "3cbfa665",
    "papermill": {
     "duration": 0.119958,
     "end_time": "2022-09-08T13:13:39.464789",
     "exception": false,
     "start_time": "2022-09-08T13:13:39.344831",
     "status": "completed"
    },
    "tags": []
   },
   "outputs": [],
   "source": [
    "train_target = train_data[205].value_counts()"
   ]
  },
  {
   "cell_type": "code",
   "execution_count": 15,
   "id": "1bb8a861",
   "metadata": {
    "execution": {
     "iopub.execute_input": "2022-09-08T13:13:39.682181Z",
     "iopub.status.busy": "2022-09-08T13:13:39.681482Z",
     "iopub.status.idle": "2022-09-08T13:13:39.687555Z",
     "shell.execute_reply": "2022-09-08T13:13:39.688124Z",
     "shell.execute_reply.started": "2022-09-08T12:17:57.429592Z"
    },
    "id": "77732f35",
    "papermill": {
     "duration": 0.116278,
     "end_time": "2022-09-08T13:13:39.688315",
     "exception": false,
     "start_time": "2022-09-08T13:13:39.572037",
     "status": "completed"
    },
    "tags": []
   },
   "outputs": [
    {
     "data": {
      "text/plain": [
       "0    20000\n",
       "1    20000\n",
       "2    20000\n",
       "3    20000\n",
       "Name: 205, dtype: int64"
      ]
     },
     "execution_count": 15,
     "metadata": {},
     "output_type": "execute_result"
    }
   ],
   "source": [
    "train_target"
   ]
  },
  {
   "cell_type": "code",
   "execution_count": 16,
   "id": "6b39bc02",
   "metadata": {
    "execution": {
     "iopub.execute_input": "2022-09-08T13:13:39.905399Z",
     "iopub.status.busy": "2022-09-08T13:13:39.904611Z",
     "iopub.status.idle": "2022-09-08T13:13:40.067099Z",
     "shell.execute_reply": "2022-09-08T13:13:40.066212Z",
     "shell.execute_reply.started": "2022-09-08T12:17:57.442050Z"
    },
    "id": "af8344e5",
    "papermill": {
     "duration": 0.271727,
     "end_time": "2022-09-08T13:13:40.067263",
     "exception": false,
     "start_time": "2022-09-08T13:13:39.795536",
     "status": "completed"
    },
    "tags": []
   },
   "outputs": [
    {
     "data": {
      "image/png": "[encoded data removed]",
      "text/plain": [
       "<Figure size 432x288 with 1 Axes>"
      ]
     },
     "metadata": {
      "needs_background": "light"
     },
     "output_type": "display_data"
    }
   ],
   "source": [
    "plt.bar(train_target.index,train_target.values, color = 'green');"
   ]
  },
  {
   "cell_type": "markdown",
   "id": "d50b472b",
   "metadata": {
    "id": "5766da3c",
    "papermill": {
     "duration": 0.106925,
     "end_time": "2022-09-08T13:13:40.284977",
     "exception": false,
     "start_time": "2022-09-08T13:13:40.178052",
     "status": "completed"
    },
    "tags": []
   },
   "source": [
    "<B style = \"color : blueviolet\">Pie Chart<B>"
   ]
  },
  {
   "cell_type": "code",
   "execution_count": 17,
   "id": "fad6bcab",
   "metadata": {
    "execution": {
     "iopub.execute_input": "2022-09-08T13:13:40.537425Z",
     "iopub.status.busy": "2022-09-08T13:13:40.523513Z",
     "iopub.status.idle": "2022-09-08T13:13:40.622491Z",
     "shell.execute_reply": "2022-09-08T13:13:40.623483Z",
     "shell.execute_reply.started": "2022-09-08T12:17:57.653550Z"
    },
    "id": "aad9bfcc",
    "papermill": {
     "duration": 0.232014,
     "end_time": "2022-09-08T13:13:40.623768",
     "exception": false,
     "start_time": "2022-09-08T13:13:40.391754",
     "status": "completed"
    },
    "tags": []
   },
   "outputs": [
    {
     "data": {
      "image/png": "[encoded data removed]",
      "text/plain": [
       "<Figure size 864x360.72 with 1 Axes>"
      ]
     },
     "metadata": {},
     "output_type": "display_data"
    }
   ],
   "source": [
    "sorted_counts = train_data[205].value_counts();\n",
    "plt.figure(figsize = [12,5.01])\n",
    "plt.pie(sorted_counts, labels = sorted_counts.index, startangle = 90,\n",
    "        counterclock = False);\n",
    "plt.axis('square');"
   ]
  },
  {
   "cell_type": "markdown",
   "id": "96c9e03c",
   "metadata": {
    "id": "355db284",
    "papermill": {
     "duration": 0.10685,
     "end_time": "2022-09-08T13:13:40.867396",
     "exception": false,
     "start_time": "2022-09-08T13:13:40.760546",
     "status": "completed"
    },
    "tags": []
   },
   "source": [
    "Now the dataset has been sampled with an equal distribution per each vector feature "
   ]
  },
  {
   "cell_type": "markdown",
   "id": "e4944ee1",
   "metadata": {
    "id": "0b9313d6",
    "papermill": {
     "duration": 0.109521,
     "end_time": "2022-09-08T13:13:41.086664",
     "exception": false,
     "start_time": "2022-09-08T13:13:40.977143",
     "status": "completed"
    },
    "tags": []
   },
   "source": [
    "## Let's figure out the test dataset "
   ]
  },
  {
   "cell_type": "code",
   "execution_count": 18,
   "id": "e6f33eb2",
   "metadata": {
    "execution": {
     "iopub.execute_input": "2022-09-08T13:13:41.303847Z",
     "iopub.status.busy": "2022-09-08T13:13:41.303190Z",
     "iopub.status.idle": "2022-09-08T13:13:41.309542Z",
     "shell.execute_reply": "2022-09-08T13:13:41.308855Z",
     "shell.execute_reply.started": "2022-09-08T12:17:57.787379Z"
    },
    "id": "a0b7008a",
    "papermill": {
     "duration": 0.115927,
     "end_time": "2022-09-08T13:13:41.309692",
     "exception": false,
     "start_time": "2022-09-08T13:13:41.193765",
     "status": "completed"
    },
    "tags": []
   },
   "outputs": [],
   "source": [
    "test_target = test_data[205].value_counts()"
   ]
  },
  {
   "cell_type": "code",
   "execution_count": 19,
   "id": "79624c93",
   "metadata": {
    "execution": {
     "iopub.execute_input": "2022-09-08T13:13:41.530813Z",
     "iopub.status.busy": "2022-09-08T13:13:41.530111Z",
     "iopub.status.idle": "2022-09-08T13:13:41.534573Z",
     "shell.execute_reply": "2022-09-08T13:13:41.534064Z",
     "shell.execute_reply.started": "2022-09-08T12:17:57.798391Z"
    },
    "id": "d680a42f",
    "papermill": {
     "duration": 0.118134,
     "end_time": "2022-09-08T13:13:41.534723",
     "exception": false,
     "start_time": "2022-09-08T13:13:41.416589",
     "status": "completed"
    },
    "tags": []
   },
   "outputs": [
    {
     "data": {
      "text/plain": [
       "0    12934\n",
       "3     3543\n",
       "2     2793\n",
       "1      730\n",
       "Name: 205, dtype: int64"
      ]
     },
     "execution_count": 19,
     "metadata": {},
     "output_type": "execute_result"
    }
   ],
   "source": [
    "test_target"
   ]
  },
  {
   "cell_type": "code",
   "execution_count": 20,
   "id": "60c2d612",
   "metadata": {
    "execution": {
     "iopub.execute_input": "2022-09-08T13:13:41.775673Z",
     "iopub.status.busy": "2022-09-08T13:13:41.774588Z",
     "iopub.status.idle": "2022-09-08T13:13:41.960532Z",
     "shell.execute_reply": "2022-09-08T13:13:41.959973Z",
     "shell.execute_reply.started": "2022-09-08T12:17:57.810709Z"
    },
    "id": "2a1158ce",
    "papermill": {
     "duration": 0.316234,
     "end_time": "2022-09-08T13:13:41.960688",
     "exception": false,
     "start_time": "2022-09-08T13:13:41.644454",
     "status": "completed"
    },
    "tags": []
   },
   "outputs": [
    {
     "data": {
      "image/png": "[encoded data removed]",
      "text/plain": [
       "<Figure size 432x288 with 1 Axes>"
      ]
     },
     "metadata": {
      "needs_background": "light"
     },
     "output_type": "display_data"
    }
   ],
   "source": [
    "plt.bar(test_target.index,test_target.values, color = sb.color_palette()[0]);"
   ]
  },
  {
   "cell_type": "code",
   "execution_count": 21,
   "id": "f29d4a93",
   "metadata": {
    "execution": {
     "iopub.execute_input": "2022-09-08T13:13:42.194294Z",
     "iopub.status.busy": "2022-09-08T13:13:42.191182Z",
     "iopub.status.idle": "2022-09-08T13:13:42.198642Z",
     "shell.execute_reply": "2022-09-08T13:13:42.199211Z",
     "shell.execute_reply.started": "2022-09-08T12:17:58.005490Z"
    },
    "id": "b11efe38",
    "papermill": {
     "duration": 0.125401,
     "end_time": "2022-09-08T13:13:42.199397",
     "exception": false,
     "start_time": "2022-09-08T13:13:42.073996",
     "status": "completed"
    },
    "tags": []
   },
   "outputs": [],
   "source": [
    "np.random.seed(123)\n",
    "sample2 = np.random.choice(test_data.shape[0], 200, replace = False)\n",
    "subset2 = test_data.loc[sample2]"
   ]
  },
  {
   "cell_type": "code",
   "execution_count": 22,
   "id": "45c470f7",
   "metadata": {
    "execution": {
     "iopub.execute_input": "2022-09-08T13:13:42.423515Z",
     "iopub.status.busy": "2022-09-08T13:13:42.419112Z",
     "iopub.status.idle": "2022-09-08T13:13:42.426703Z",
     "shell.execute_reply": "2022-09-08T13:13:42.427335Z",
     "shell.execute_reply.started": "2022-09-08T12:17:58.020143Z"
    },
    "id": "c7bb8ab0",
    "papermill": {
     "duration": 0.119745,
     "end_time": "2022-09-08T13:13:42.427527",
     "exception": false,
     "start_time": "2022-09-08T13:13:42.307782",
     "status": "completed"
    },
    "tags": []
   },
   "outputs": [
    {
     "data": {
      "text/plain": [
       "62.0"
      ]
     },
     "execution_count": 22,
     "metadata": {},
     "output_type": "execute_result"
    }
   ],
   "source": [
    "percentages = [count / subset2.shape[0] * 100 for count in subset2[205].value_counts()]\n",
    "percentages[0]"
   ]
  },
  {
   "cell_type": "code",
   "execution_count": 23,
   "id": "7b704bbb",
   "metadata": {
    "execution": {
     "iopub.execute_input": "2022-09-08T13:13:42.655482Z",
     "iopub.status.busy": "2022-09-08T13:13:42.654333Z",
     "iopub.status.idle": "2022-09-08T13:13:42.657875Z",
     "shell.execute_reply": "2022-09-08T13:13:42.658431Z",
     "shell.execute_reply.started": "2022-09-08T12:17:58.039701Z"
    },
    "id": "7496a17e",
    "papermill": {
     "duration": 0.119372,
     "end_time": "2022-09-08T13:13:42.658616",
     "exception": false,
     "start_time": "2022-09-08T13:13:42.539244",
     "status": "completed"
    },
    "tags": []
   },
   "outputs": [
    {
     "name": "stdout",
     "output_type": "stream",
     "text": [
      "the precent of 0 is : 62.0 %\n",
      "the precent of 1 is : 21.5 %\n",
      "the precent of 2 is : 15.0 %\n",
      "the precent of 3 is : 1.5 %\n"
     ]
    }
   ],
   "source": [
    "for i in np.arange(len(percentages)):\n",
    "    print(f'the precent of {int(test_data.index[i])} is : {np.round(percentages[i], 2) } %')"
   ]
  },
  {
   "cell_type": "markdown",
   "id": "eb38e760",
   "metadata": {
    "id": "ce92f2c3",
    "papermill": {
     "duration": 0.112705,
     "end_time": "2022-09-08T13:13:42.898071",
     "exception": false,
     "start_time": "2022-09-08T13:13:42.785366",
     "status": "completed"
    },
    "tags": []
   },
   "source": [
    "### I notice that 🕵🏽‍♂️ the normal cases posses the data with 62.0 % of the whole cases  \n",
    "### let's try to resample it ⏳ 📏"
   ]
  },
  {
   "cell_type": "code",
   "execution_count": 24,
   "id": "d5bdaf54",
   "metadata": {
    "execution": {
     "iopub.execute_input": "2022-09-08T13:13:43.159409Z",
     "iopub.status.busy": "2022-09-08T13:13:43.147584Z",
     "iopub.status.idle": "2022-09-08T13:13:43.269963Z",
     "shell.execute_reply": "2022-09-08T13:13:43.269154Z",
     "shell.execute_reply.started": "2022-09-08T12:17:58.049827Z"
    },
    "id": "7bb254dd",
    "papermill": {
     "duration": 0.260107,
     "end_time": "2022-09-08T13:13:43.270180",
     "exception": false,
     "start_time": "2022-09-08T13:13:43.010073",
     "status": "completed"
    },
    "tags": []
   },
   "outputs": [],
   "source": [
    "from sklearn.utils import resample\n",
    "target1=test_data[test_data[205]==1]\n",
    "target2=test_data[test_data[205]==2]\n",
    "target3=test_data[test_data[205]==3]\n",
    "target0=(test_data[test_data[205]==0]).sample(n=2000,random_state=0)\n",
    "\n",
    "target1_sample=resample(target1,replace=True,n_samples=2000,random_state=0)\n",
    "target2_sample=resample(target2,replace=True,n_samples=2000,random_state=0)\n",
    "target3_sample=resample(target3,replace=True,n_samples=2000,random_state=0)\n",
    "\n",
    "test_data=pd.concat([target0,target1_sample,target2_sample,target3_sample])\n"
   ]
  },
  {
   "cell_type": "code",
   "execution_count": 25,
   "id": "ec7bf2a8",
   "metadata": {
    "execution": {
     "iopub.execute_input": "2022-09-08T13:13:43.540163Z",
     "iopub.status.busy": "2022-09-08T13:13:43.539002Z",
     "iopub.status.idle": "2022-09-08T13:13:43.542500Z",
     "shell.execute_reply": "2022-09-08T13:13:43.541788Z",
     "shell.execute_reply.started": "2022-09-08T12:17:58.176601Z"
    },
    "id": "3098dbe2",
    "papermill": {
     "duration": 0.149873,
     "end_time": "2022-09-08T13:13:43.542651",
     "exception": false,
     "start_time": "2022-09-08T13:13:43.392778",
     "status": "completed"
    },
    "tags": []
   },
   "outputs": [],
   "source": [
    "test_target = test_data[205].value_counts()"
   ]
  },
  {
   "cell_type": "code",
   "execution_count": 26,
   "id": "302ab1dd",
   "metadata": {
    "execution": {
     "iopub.execute_input": "2022-09-08T13:13:43.780991Z",
     "iopub.status.busy": "2022-09-08T13:13:43.780211Z",
     "iopub.status.idle": "2022-09-08T13:13:43.784300Z",
     "shell.execute_reply": "2022-09-08T13:13:43.783613Z",
     "shell.execute_reply.started": "2022-09-08T12:17:58.185304Z"
    },
    "id": "1d0687bf",
    "papermill": {
     "duration": 0.125424,
     "end_time": "2022-09-08T13:13:43.784463",
     "exception": false,
     "start_time": "2022-09-08T13:13:43.659039",
     "status": "completed"
    },
    "tags": []
   },
   "outputs": [
    {
     "data": {
      "text/plain": [
       "0    2000\n",
       "1    2000\n",
       "2    2000\n",
       "3    2000\n",
       "Name: 205, dtype: int64"
      ]
     },
     "execution_count": 26,
     "metadata": {},
     "output_type": "execute_result"
    }
   ],
   "source": [
    "test_target"
   ]
  },
  {
   "cell_type": "code",
   "execution_count": 27,
   "id": "9499664a",
   "metadata": {
    "execution": {
     "iopub.execute_input": "2022-09-08T13:13:44.031490Z",
     "iopub.status.busy": "2022-09-08T13:13:44.030764Z",
     "iopub.status.idle": "2022-09-08T13:13:44.218705Z",
     "shell.execute_reply": "2022-09-08T13:13:44.217661Z",
     "shell.execute_reply.started": "2022-09-08T12:17:58.199045Z"
    },
    "id": "fff16e49",
    "papermill": {
     "duration": 0.322293,
     "end_time": "2022-09-08T13:13:44.218885",
     "exception": false,
     "start_time": "2022-09-08T13:13:43.896592",
     "status": "completed"
    },
    "tags": []
   },
   "outputs": [
    {
     "data": {
      "image/png": "[encoded data removed]",
      "text/plain": [
       "<Figure size 432x288 with 1 Axes>"
      ]
     },
     "metadata": {
      "needs_background": "light"
     },
     "output_type": "display_data"
    }
   ],
   "source": [
    "plt.bar(train_target.index,train_target.values, color = 'green');"
   ]
  },
  {
   "cell_type": "markdown",
   "id": "e1757148",
   "metadata": {
    "id": "10632311",
    "papermill": {
     "duration": 0.113353,
     "end_time": "2022-09-08T13:13:44.446242",
     "exception": false,
     "start_time": "2022-09-08T13:13:44.332889",
     "status": "completed"
    },
    "tags": []
   },
   "source": [
    "<B style = \"color : blueviolet\">Pie Chart<B>"
   ]
  },
  {
   "cell_type": "code",
   "execution_count": 28,
   "id": "84224313",
   "metadata": {
    "execution": {
     "iopub.execute_input": "2022-09-08T13:13:44.679160Z",
     "iopub.status.busy": "2022-09-08T13:13:44.678454Z",
     "iopub.status.idle": "2022-09-08T13:13:44.781413Z",
     "shell.execute_reply": "2022-09-08T13:13:44.782209Z",
     "shell.execute_reply.started": "2022-09-08T12:17:58.418058Z"
    },
    "id": "05c9d370",
    "papermill": {
     "duration": 0.222262,
     "end_time": "2022-09-08T13:13:44.782483",
     "exception": false,
     "start_time": "2022-09-08T13:13:44.560221",
     "status": "completed"
    },
    "tags": []
   },
   "outputs": [
    {
     "data": {
      "image/png": "[encoded data removed]",
      "text/plain": [
       "<Figure size 864x360.72 with 1 Axes>"
      ]
     },
     "metadata": {},
     "output_type": "display_data"
    }
   ],
   "source": [
    "sorted_counts = train_data[205].value_counts();\n",
    "plt.figure(figsize = [12,5.01])\n",
    "plt.pie(sorted_counts, labels = sorted_counts.index, startangle = 90,\n",
    "        counterclock = False);\n",
    "plt.axis('square');"
   ]
  },
  {
   "cell_type": "markdown",
   "id": "84d732db",
   "metadata": {
    "id": "2af13f70",
    "papermill": {
     "duration": 0.113353,
     "end_time": "2022-09-08T13:13:45.037679",
     "exception": false,
     "start_time": "2022-09-08T13:13:44.924326",
     "status": "completed"
    },
    "tags": []
   },
   "source": [
    "## Pearson Correlation Coefficient & P-value"
   ]
  },
  {
   "cell_type": "code",
   "execution_count": 29,
   "id": "74d59c13",
   "metadata": {
    "execution": {
     "iopub.execute_input": "2022-09-08T13:13:45.265835Z",
     "iopub.status.busy": "2022-09-08T13:13:45.265178Z",
     "iopub.status.idle": "2022-09-08T13:13:45.268548Z",
     "shell.execute_reply": "2022-09-08T13:13:45.268039Z",
     "shell.execute_reply.started": "2022-09-08T12:17:58.524802Z"
    },
    "id": "fe509219",
    "papermill": {
     "duration": 0.119729,
     "end_time": "2022-09-08T13:13:45.268702",
     "exception": false,
     "start_time": "2022-09-08T13:13:45.148973",
     "status": "completed"
    },
    "tags": []
   },
   "outputs": [],
   "source": [
    "from scipy import stats"
   ]
  },
  {
   "cell_type": "code",
   "execution_count": 30,
   "id": "344b3d27",
   "metadata": {
    "execution": {
     "iopub.execute_input": "2022-09-08T13:13:45.499059Z",
     "iopub.status.busy": "2022-09-08T13:13:45.498340Z",
     "iopub.status.idle": "2022-09-08T13:13:45.511099Z",
     "shell.execute_reply": "2022-09-08T13:13:45.512128Z",
     "shell.execute_reply.started": "2022-09-08T12:17:58.532712Z"
    },
    "id": "05d8a388",
    "papermill": {
     "duration": 0.132811,
     "end_time": "2022-09-08T13:13:45.512398",
     "exception": false,
     "start_time": "2022-09-08T13:13:45.379587",
     "status": "completed"
    },
    "tags": []
   },
   "outputs": [],
   "source": [
    "pearson_coef, p_value = stats.pearsonr(train_data[1], train_data[205])"
   ]
  },
  {
   "cell_type": "code",
   "execution_count": 31,
   "id": "da00f1e8",
   "metadata": {
    "execution": {
     "iopub.execute_input": "2022-09-08T13:13:45.781346Z",
     "iopub.status.busy": "2022-09-08T13:13:45.780618Z",
     "iopub.status.idle": "2022-09-08T13:13:45.783467Z",
     "shell.execute_reply": "2022-09-08T13:13:45.783983Z",
     "shell.execute_reply.started": "2022-09-08T12:17:58.550123Z"
    },
    "id": "f64fe9e8",
    "papermill": {
     "duration": 0.121198,
     "end_time": "2022-09-08T13:13:45.784169",
     "exception": false,
     "start_time": "2022-09-08T13:13:45.662971",
     "status": "completed"
    },
    "tags": []
   },
   "outputs": [],
   "source": [
    "l = [('1', 1),('2',2),('3',3)]"
   ]
  },
  {
   "cell_type": "code",
   "execution_count": 32,
   "id": "4da20747",
   "metadata": {
    "execution": {
     "iopub.execute_input": "2022-09-08T13:13:46.015779Z",
     "iopub.status.busy": "2022-09-08T13:13:46.015076Z",
     "iopub.status.idle": "2022-09-08T13:13:46.017999Z",
     "shell.execute_reply": "2022-09-08T13:13:46.018697Z",
     "shell.execute_reply.started": "2022-09-08T12:17:58.559799Z"
    },
    "id": "344499de",
    "papermill": {
     "duration": 0.120585,
     "end_time": "2022-09-08T13:13:46.019014",
     "exception": false,
     "start_time": "2022-09-08T13:13:45.898429",
     "status": "completed"
    },
    "tags": []
   },
   "outputs": [
    {
     "name": "stdout",
     "output_type": "stream",
     "text": [
      "[('1', 1), ('2', 2), ('3', 3)]\n"
     ]
    }
   ],
   "source": [
    "if max(l):\n",
    "    print(l)"
   ]
  },
  {
   "cell_type": "code",
   "execution_count": 33,
   "id": "d6c3ecd3",
   "metadata": {
    "execution": {
     "iopub.execute_input": "2022-09-08T13:13:46.253945Z",
     "iopub.status.busy": "2022-09-08T13:13:46.253037Z",
     "iopub.status.idle": "2022-09-08T13:13:46.256766Z",
     "shell.execute_reply": "2022-09-08T13:13:46.256281Z",
     "shell.execute_reply.started": "2022-09-08T12:17:58.571899Z"
    },
    "id": "5922728f",
    "papermill": {
     "duration": 0.122774,
     "end_time": "2022-09-08T13:13:46.256926",
     "exception": false,
     "start_time": "2022-09-08T13:13:46.134152",
     "status": "completed"
    },
    "tags": []
   },
   "outputs": [
    {
     "data": {
      "text/plain": [
       "('3', 3)"
      ]
     },
     "execution_count": 33,
     "metadata": {},
     "output_type": "execute_result"
    }
   ],
   "source": [
    "max(l)"
   ]
  },
  {
   "cell_type": "markdown",
   "id": "f471b472",
   "metadata": {
    "id": "9e74ba35",
    "papermill": {
     "duration": 0.111732,
     "end_time": "2022-09-08T13:13:46.480650",
     "exception": false,
     "start_time": "2022-09-08T13:13:46.368918",
     "status": "completed"
    },
    "tags": []
   },
   "source": [
    "now let's see if an feature impose the target vector"
   ]
  },
  {
   "cell_type": "markdown",
   "id": "60f1255b",
   "metadata": {
    "id": "607d0b23",
    "papermill": {
     "duration": 0.111459,
     "end_time": "2022-09-08T13:13:46.704854",
     "exception": false,
     "start_time": "2022-09-08T13:13:46.593395",
     "status": "completed"
    },
    "tags": []
   },
   "source": [
    "###Here we can use pearson correlation coffecent and P-value "
   ]
  },
  {
   "cell_type": "code",
   "execution_count": 34,
   "id": "82f0ba21",
   "metadata": {
    "execution": {
     "iopub.execute_input": "2022-09-08T13:13:46.943474Z",
     "iopub.status.busy": "2022-09-08T13:13:46.936268Z",
     "iopub.status.idle": "2022-09-08T13:13:47.282937Z",
     "shell.execute_reply": "2022-09-08T13:13:47.283776Z",
     "shell.execute_reply.started": "2022-09-08T12:17:58.586223Z"
    },
    "id": "eba66779",
    "papermill": {
     "duration": 0.466329,
     "end_time": "2022-09-08T13:13:47.284062",
     "exception": false,
     "start_time": "2022-09-08T13:13:46.817733",
     "status": "completed"
    },
    "tags": []
   },
   "outputs": [],
   "source": [
    "effictive_list = []\n",
    "for i in train_data.columns:\n",
    "    if i != 205:\n",
    "        pearson_coef, p_value = stats.pearsonr(train_data[i], train_data[205])\n",
    "        effictive_list.append((f'column number : {i}', f'Pearson Correlation {pearson_coef}', f'P-value : {p_value}'))\n",
    "    else: break"
   ]
  },
  {
   "cell_type": "code",
   "execution_count": 35,
   "id": "86b5722d",
   "metadata": {
    "execution": {
     "iopub.execute_input": "2022-09-08T13:13:47.560442Z",
     "iopub.status.busy": "2022-09-08T13:13:47.559367Z",
     "iopub.status.idle": "2022-09-08T13:13:47.564005Z",
     "shell.execute_reply": "2022-09-08T13:13:47.564507Z",
     "shell.execute_reply.started": "2022-09-08T12:17:58.979740Z"
    },
    "id": "fcc07629",
    "papermill": {
     "duration": 0.125206,
     "end_time": "2022-09-08T13:13:47.564698",
     "exception": false,
     "start_time": "2022-09-08T13:13:47.439492",
     "status": "completed"
    },
    "tags": []
   },
   "outputs": [
    {
     "name": "stdout",
     "output_type": "stream",
     "text": [
      "***************************************************************************\n",
      "('column number : 99', 'Pearson Correlation 0.29784405686433113', 'P-value : 0.0')\n",
      "***************************************************************************\n"
     ]
    }
   ],
   "source": [
    "print('*' * 75)\n",
    "print(max(effictive_list))\n",
    "print('*' * 75)"
   ]
  },
  {
   "cell_type": "markdown",
   "id": "70b9504b",
   "metadata": {
    "id": "57803214",
    "papermill": {
     "duration": 0.114052,
     "end_time": "2022-09-08T13:13:47.793131",
     "exception": false,
     "start_time": "2022-09-08T13:13:47.679079",
     "status": "completed"
    },
    "tags": []
   },
   "source": [
    "it seems that the column 99 has the best Pearson Correlation close to 0.5 and P-value = 0 (perfect p-value)\n",
    "however in our database with signals it's not very effect to get the correlations.<br>\n",
    "but it also give us an the second which will be Important second in measurement the heart signals,<br>\n",
    "in the dataset <b style = \"color : red; font-size : 15.6\">the second  99 </b> is the impartant second"
   ]
  },
  {
   "cell_type": "markdown",
   "id": "a7defe3c",
   "metadata": {
    "id": "799952fa",
    "papermill": {
     "duration": 0.117874,
     "end_time": "2022-09-08T13:13:48.026736",
     "exception": false,
     "start_time": "2022-09-08T13:13:47.908862",
     "status": "completed"
    },
    "tags": []
   },
   "source": [
    "### Adding noise "
   ]
  },
  {
   "cell_type": "markdown",
   "id": "cbc913be",
   "metadata": {
    "id": "b8fc2eb2",
    "papermill": {
     "duration": 0.113113,
     "end_time": "2022-09-08T13:13:48.255198",
     "exception": false,
     "start_time": "2022-09-08T13:13:48.142085",
     "status": "completed"
    },
    "tags": []
   },
   "source": [
    "the data in the real life monitor ❤️ must have noise even it's will occure in small probability\n",
    "here we try to adding noise to the original data <br>\n",
    "using <b style = \"color : blue; font-size : 30.6\"> Gaussian noise </b>"
   ]
  },
  {
   "cell_type": "code",
   "execution_count": 36,
   "id": "382a850b",
   "metadata": {
    "execution": {
     "iopub.execute_input": "2022-09-08T13:13:48.486481Z",
     "iopub.status.busy": "2022-09-08T13:13:48.485779Z",
     "iopub.status.idle": "2022-09-08T13:13:48.680048Z",
     "shell.execute_reply": "2022-09-08T13:13:48.680624Z",
     "shell.execute_reply.started": "2022-09-08T12:17:58.988838Z"
    },
    "id": "b959c620",
    "papermill": {
     "duration": 0.310558,
     "end_time": "2022-09-08T13:13:48.680817",
     "exception": false,
     "start_time": "2022-09-08T13:13:48.370259",
     "status": "completed"
    },
    "tags": []
   },
   "outputs": [
    {
     "data": {
      "text/plain": [
       "Text(0, 0.5, 'Time in seconds')"
      ]
     },
     "execution_count": 36,
     "metadata": {},
     "output_type": "execute_result"
    },
    {
     "data": {
      "image/png": "[encoded data removed]",
      "text/plain": [
       "<Figure size 864x289.44 with 1 Axes>"
      ]
     },
     "metadata": {
      "needs_background": "light"
     },
     "output_type": "display_data"
    }
   ],
   "source": [
    "def add_guassian_noise(signal):\n",
    "    noise = np.random.normal(0,0.05,204)\n",
    "    return(signal + noise)\n",
    "noise_data = add_guassian_noise(train_data.iloc[0,:204])\n",
    "plt.figure(figsize = [12,4.02])\n",
    "plt.plot(train_data.iloc[0,:204], color = 'green')\n",
    "plt.title('Data without noise')\n",
    "plt.xlabel('ECG in mili volts')\n",
    "plt.ylabel('Time in seconds')"
   ]
  },
  {
   "cell_type": "code",
   "execution_count": 37,
   "id": "799bc53a",
   "metadata": {
    "execution": {
     "iopub.execute_input": "2022-09-08T13:13:48.917550Z",
     "iopub.status.busy": "2022-09-08T13:13:48.916699Z",
     "iopub.status.idle": "2022-09-08T13:13:49.082929Z",
     "shell.execute_reply": "2022-09-08T13:13:49.083487Z",
     "shell.execute_reply.started": "2022-09-08T12:17:59.231695Z"
    },
    "id": "98914dd7",
    "papermill": {
     "duration": 0.283871,
     "end_time": "2022-09-08T13:13:49.083667",
     "exception": false,
     "start_time": "2022-09-08T13:13:48.799796",
     "status": "completed"
    },
    "tags": []
   },
   "outputs": [
    {
     "data": {
      "image/png": "[encoded data removed]",
      "text/plain": [
       "<Figure size 864x289.44 with 1 Axes>"
      ]
     },
     "metadata": {
      "needs_background": "light"
     },
     "output_type": "display_data"
    }
   ],
   "source": [
    "plt.figure(figsize = [12,4.02])\n",
    "plt.plot(noise_data, color = 'red')\n",
    "plt.title('Data with noise')\n",
    "plt.xlabel('ECG in mili volts')\n",
    "plt.ylabel('time in seconds')\n",
    "plt.show()"
   ]
  },
  {
   "cell_type": "markdown",
   "id": "22e0d8c5",
   "metadata": {
    "id": "6c86bc9a",
    "papermill": {
     "duration": 0.117457,
     "end_time": "2022-09-08T13:13:49.324778",
     "exception": false,
     "start_time": "2022-09-08T13:13:49.207321",
     "status": "completed"
    },
    "tags": []
   },
   "source": [
    "#### as we notice 🔍 the data in the monitor will be like this"
   ]
  },
  {
   "cell_type": "markdown",
   "id": "2ea976f3",
   "metadata": {
    "id": "7655c3be",
    "papermill": {
     "duration": 0.116234,
     "end_time": "2022-09-08T13:13:49.556985",
     "exception": false,
     "start_time": "2022-09-08T13:13:49.440751",
     "status": "completed"
    },
    "tags": []
   },
   "source": [
    "the data taken by second we need know the data at the minute hence to display the important second with minute"
   ]
  },
  {
   "cell_type": "code",
   "execution_count": 38,
   "id": "e8fce19d",
   "metadata": {
    "execution": {
     "iopub.execute_input": "2022-09-08T13:13:49.794509Z",
     "iopub.status.busy": "2022-09-08T13:13:49.793507Z",
     "iopub.status.idle": "2022-09-08T13:13:49.799180Z",
     "shell.execute_reply": "2022-09-08T13:13:49.799651Z",
     "shell.execute_reply.started": "2022-09-08T12:17:59.445698Z"
    },
    "id": "7e1636c3",
    "papermill": {
     "duration": 0.125382,
     "end_time": "2022-09-08T13:13:49.799846",
     "exception": false,
     "start_time": "2022-09-08T13:13:49.674464",
     "status": "completed"
    },
    "tags": []
   },
   "outputs": [
    {
     "data": {
      "text/plain": [
       "3.433333333333333"
      ]
     },
     "execution_count": 38,
     "metadata": {},
     "output_type": "execute_result"
    }
   ],
   "source": [
    "len(train_data.columns)/60"
   ]
  },
  {
   "cell_type": "markdown",
   "id": "d7ba9034",
   "metadata": {
    "id": "ae1dc8a4",
    "papermill": {
     "duration": 0.116779,
     "end_time": "2022-09-08T13:13:50.036341",
     "exception": false,
     "start_time": "2022-09-08T13:13:49.919562",
     "status": "completed"
    },
    "tags": []
   },
   "source": [
    "<h4>nearly 3 steps per time ⏱ </h4>"
   ]
  },
  {
   "cell_type": "code",
   "execution_count": 39,
   "id": "621a5886",
   "metadata": {
    "execution": {
     "iopub.execute_input": "2022-09-08T13:13:50.278166Z",
     "iopub.status.busy": "2022-09-08T13:13:50.277383Z",
     "iopub.status.idle": "2022-09-08T13:13:50.340238Z",
     "shell.execute_reply": "2022-09-08T13:13:50.339477Z",
     "shell.execute_reply.started": "2022-09-08T12:17:59.454627Z"
    },
    "id": "88b22d15",
    "papermill": {
     "duration": 0.185309,
     "end_time": "2022-09-08T13:13:50.340391",
     "exception": false,
     "start_time": "2022-09-08T13:13:50.155082",
     "status": "completed"
    },
    "tags": []
   },
   "outputs": [],
   "source": [
    "df = train_data.copy()"
   ]
  },
  {
   "cell_type": "code",
   "execution_count": 40,
   "id": "def2947e",
   "metadata": {
    "execution": {
     "iopub.execute_input": "2022-09-08T13:13:50.580461Z",
     "iopub.status.busy": "2022-09-08T13:13:50.579677Z",
     "iopub.status.idle": "2022-09-08T13:13:50.652075Z",
     "shell.execute_reply": "2022-09-08T13:13:50.651470Z",
     "shell.execute_reply.started": "2022-09-08T12:17:59.530833Z"
    },
    "id": "a68f76fd",
    "papermill": {
     "duration": 0.195038,
     "end_time": "2022-09-08T13:13:50.652239",
     "exception": false,
     "start_time": "2022-09-08T13:13:50.457201",
     "status": "completed"
    },
    "tags": []
   },
   "outputs": [],
   "source": [
    "counter = 0\n",
    "while counter <= len(df.columns):\n",
    "    if counter != 204:\n",
    "        df[counter] = df[counter] + df[counter + 1] + df[counter + 2] \n",
    "        counter += 3\n",
    "    else: break\n"
   ]
  },
  {
   "cell_type": "code",
   "execution_count": 41,
   "id": "6e02bccb",
   "metadata": {
    "execution": {
     "iopub.execute_input": "2022-09-08T13:13:50.917626Z",
     "iopub.status.busy": "2022-09-08T13:13:50.905558Z",
     "iopub.status.idle": "2022-09-08T13:13:50.922354Z",
     "shell.execute_reply": "2022-09-08T13:13:50.921621Z",
     "shell.execute_reply.started": "2022-09-08T12:17:59.605699Z"
    },
    "id": "4799e4ab",
    "papermill": {
     "duration": 0.151398,
     "end_time": "2022-09-08T13:13:50.922505",
     "exception": false,
     "start_time": "2022-09-08T13:13:50.771107",
     "status": "completed"
    },
    "tags": []
   },
   "outputs": [
    {
     "data": {
      "text/html": [
       "<div>\n",
       "<style scoped>\n",
       "    .dataframe tbody tr th:only-of-type {\n",
       "        vertical-align: middle;\n",
       "    }\n",
       "\n",
       "    .dataframe tbody tr th {\n",
       "        vertical-align: top;\n",
       "    }\n",
       "\n",
       "    .dataframe thead th {\n",
       "        text-align: right;\n",
       "    }\n",
       "</style>\n",
       "<table border=\"1\" class=\"dataframe\">\n",
       "  <thead>\n",
       "    <tr style=\"text-align: right;\">\n",
       "      <th></th>\n",
       "      <th>0</th>\n",
       "      <th>1</th>\n",
       "      <th>2</th>\n",
       "      <th>3</th>\n",
       "      <th>4</th>\n",
       "      <th>5</th>\n",
       "      <th>6</th>\n",
       "      <th>7</th>\n",
       "      <th>8</th>\n",
       "      <th>9</th>\n",
       "      <th>...</th>\n",
       "      <th>196</th>\n",
       "      <th>197</th>\n",
       "      <th>198</th>\n",
       "      <th>199</th>\n",
       "      <th>200</th>\n",
       "      <th>201</th>\n",
       "      <th>202</th>\n",
       "      <th>203</th>\n",
       "      <th>204</th>\n",
       "      <th>205</th>\n",
       "    </tr>\n",
       "  </thead>\n",
       "  <tbody>\n",
       "    <tr>\n",
       "      <th>28835</th>\n",
       "      <td>2.478851</td>\n",
       "      <td>0.843515</td>\n",
       "      <td>0.635336</td>\n",
       "      <td>0.849471</td>\n",
       "      <td>0.272766</td>\n",
       "      <td>0.162583</td>\n",
       "      <td>0.330936</td>\n",
       "      <td>0.116040</td>\n",
       "      <td>0.088755</td>\n",
       "      <td>0.079581</td>\n",
       "      <td>...</td>\n",
       "      <td>0.0</td>\n",
       "      <td>0.0</td>\n",
       "      <td>0.0</td>\n",
       "      <td>0.0</td>\n",
       "      <td>0.0</td>\n",
       "      <td>0.0</td>\n",
       "      <td>0.0</td>\n",
       "      <td>0.0</td>\n",
       "      <td>0.0</td>\n",
       "      <td>0</td>\n",
       "    </tr>\n",
       "    <tr>\n",
       "      <th>36892</th>\n",
       "      <td>1.983851</td>\n",
       "      <td>0.611365</td>\n",
       "      <td>0.416940</td>\n",
       "      <td>0.519544</td>\n",
       "      <td>0.168656</td>\n",
       "      <td>0.106371</td>\n",
       "      <td>0.204343</td>\n",
       "      <td>0.081404</td>\n",
       "      <td>0.055998</td>\n",
       "      <td>0.187961</td>\n",
       "      <td>...</td>\n",
       "      <td>0.0</td>\n",
       "      <td>0.0</td>\n",
       "      <td>0.0</td>\n",
       "      <td>0.0</td>\n",
       "      <td>0.0</td>\n",
       "      <td>0.0</td>\n",
       "      <td>0.0</td>\n",
       "      <td>0.0</td>\n",
       "      <td>0.0</td>\n",
       "      <td>0</td>\n",
       "    </tr>\n",
       "    <tr>\n",
       "      <th>42165</th>\n",
       "      <td>1.904823</td>\n",
       "      <td>0.621889</td>\n",
       "      <td>0.282934</td>\n",
       "      <td>0.367337</td>\n",
       "      <td>0.115477</td>\n",
       "      <td>0.000000</td>\n",
       "      <td>0.503329</td>\n",
       "      <td>0.173483</td>\n",
       "      <td>0.285128</td>\n",
       "      <td>1.024120</td>\n",
       "      <td>...</td>\n",
       "      <td>0.0</td>\n",
       "      <td>0.0</td>\n",
       "      <td>0.0</td>\n",
       "      <td>0.0</td>\n",
       "      <td>0.0</td>\n",
       "      <td>0.0</td>\n",
       "      <td>0.0</td>\n",
       "      <td>0.0</td>\n",
       "      <td>0.0</td>\n",
       "      <td>0</td>\n",
       "    </tr>\n",
       "    <tr>\n",
       "      <th>26775</th>\n",
       "      <td>2.027407</td>\n",
       "      <td>0.758867</td>\n",
       "      <td>0.268541</td>\n",
       "      <td>0.516478</td>\n",
       "      <td>0.207738</td>\n",
       "      <td>0.072621</td>\n",
       "      <td>0.430443</td>\n",
       "      <td>0.129204</td>\n",
       "      <td>0.252421</td>\n",
       "      <td>1.127977</td>\n",
       "      <td>...</td>\n",
       "      <td>0.0</td>\n",
       "      <td>0.0</td>\n",
       "      <td>0.0</td>\n",
       "      <td>0.0</td>\n",
       "      <td>0.0</td>\n",
       "      <td>0.0</td>\n",
       "      <td>0.0</td>\n",
       "      <td>0.0</td>\n",
       "      <td>0.0</td>\n",
       "      <td>0</td>\n",
       "    </tr>\n",
       "    <tr>\n",
       "      <th>47837</th>\n",
       "      <td>2.310946</td>\n",
       "      <td>0.861902</td>\n",
       "      <td>0.449044</td>\n",
       "      <td>0.446218</td>\n",
       "      <td>0.228932</td>\n",
       "      <td>0.217286</td>\n",
       "      <td>0.480387</td>\n",
       "      <td>0.166712</td>\n",
       "      <td>0.156076</td>\n",
       "      <td>0.497776</td>\n",
       "      <td>...</td>\n",
       "      <td>0.0</td>\n",
       "      <td>0.0</td>\n",
       "      <td>0.0</td>\n",
       "      <td>0.0</td>\n",
       "      <td>0.0</td>\n",
       "      <td>0.0</td>\n",
       "      <td>0.0</td>\n",
       "      <td>0.0</td>\n",
       "      <td>0.0</td>\n",
       "      <td>0</td>\n",
       "    </tr>\n",
       "  </tbody>\n",
       "</table>\n",
       "<p>5 rows × 206 columns</p>\n",
       "</div>"
      ],
      "text/plain": [
       "            0         1         2         3         4         5         6    \\\n",
       "28835  2.478851  0.843515  0.635336  0.849471  0.272766  0.162583  0.330936   \n",
       "36892  1.983851  0.611365  0.416940  0.519544  0.168656  0.106371  0.204343   \n",
       "42165  1.904823  0.621889  0.282934  0.367337  0.115477  0.000000  0.503329   \n",
       "26775  2.027407  0.758867  0.268541  0.516478  0.207738  0.072621  0.430443   \n",
       "47837  2.310946  0.861902  0.449044  0.446218  0.228932  0.217286  0.480387   \n",
       "\n",
       "            7         8         9    ...  196  197  198  199  200  201  202  \\\n",
       "28835  0.116040  0.088755  0.079581  ...  0.0  0.0  0.0  0.0  0.0  0.0  0.0   \n",
       "36892  0.081404  0.055998  0.187961  ...  0.0  0.0  0.0  0.0  0.0  0.0  0.0   \n",
       "42165  0.173483  0.285128  1.024120  ...  0.0  0.0  0.0  0.0  0.0  0.0  0.0   \n",
       "26775  0.129204  0.252421  1.127977  ...  0.0  0.0  0.0  0.0  0.0  0.0  0.0   \n",
       "47837  0.166712  0.156076  0.497776  ...  0.0  0.0  0.0  0.0  0.0  0.0  0.0   \n",
       "\n",
       "       203  204  205  \n",
       "28835  0.0  0.0    0  \n",
       "36892  0.0  0.0    0  \n",
       "42165  0.0  0.0    0  \n",
       "26775  0.0  0.0    0  \n",
       "47837  0.0  0.0    0  \n",
       "\n",
       "[5 rows x 206 columns]"
      ]
     },
     "execution_count": 41,
     "metadata": {},
     "output_type": "execute_result"
    }
   ],
   "source": [
    "df.head()"
   ]
  },
  {
   "cell_type": "code",
   "execution_count": 42,
   "id": "c773ed70",
   "metadata": {
    "execution": {
     "iopub.execute_input": "2022-09-08T13:13:51.202626Z",
     "iopub.status.busy": "2022-09-08T13:13:51.183972Z",
     "iopub.status.idle": "2022-09-08T13:13:51.403118Z",
     "shell.execute_reply": "2022-09-08T13:13:51.402474Z",
     "shell.execute_reply.started": "2022-09-08T12:17:59.639284Z"
    },
    "id": "d77711da",
    "papermill": {
     "duration": 0.363066,
     "end_time": "2022-09-08T13:13:51.403281",
     "exception": false,
     "start_time": "2022-09-08T13:13:51.040215",
     "status": "completed"
    },
    "tags": []
   },
   "outputs": [
    {
     "data": {
      "image/png": "[encoded data removed]",
      "text/plain": [
       "<Figure size 864x289.44 with 1 Axes>"
      ]
     },
     "metadata": {
      "needs_background": "light"
     },
     "output_type": "display_data"
    }
   ],
   "source": [
    "plt.figure(figsize = [12,4.02])\n",
    "plt.plot(df.iloc[0,:204], color = 'green')\n",
    "plt.title('Data without noise');\n",
    "plt.ylabel('ECG in mili volts');\n",
    "plt.xlabel('Time in minutes');"
   ]
  },
  {
   "cell_type": "code",
   "execution_count": 43,
   "id": "fc1c4bb3",
   "metadata": {
    "execution": {
     "iopub.execute_input": "2022-09-08T13:13:51.650792Z",
     "iopub.status.busy": "2022-09-08T13:13:51.650100Z",
     "iopub.status.idle": "2022-09-08T13:13:51.988255Z",
     "shell.execute_reply": "2022-09-08T13:13:51.988811Z",
     "shell.execute_reply.started": "2022-09-08T12:18:00.012712Z"
    },
    "id": "8550c859",
    "papermill": {
     "duration": 0.463577,
     "end_time": "2022-09-08T13:13:51.989028",
     "exception": false,
     "start_time": "2022-09-08T13:13:51.525451",
     "status": "completed"
    },
    "tags": []
   },
   "outputs": [
    {
     "data": {
      "image/png": "[encoded data removed]",
      "text/plain": [
       "<Figure size 864x289.44 with 1 Axes>"
      ]
     },
     "metadata": {
      "needs_background": "light"
     },
     "output_type": "display_data"
    }
   ],
   "source": [
    "def add_guassian_noise2(signal):\n",
    "    noise = np.random.normal(0,500,204)\n",
    "    return(signal + noise)\n",
    "plt.figure(figsize = [12,4.02])\n",
    "plt.plot(add_guassian_noise2(df.iloc[0,:204]), color = 'red')\n",
    "plt.title('Data with noise')\n",
    "plt.ylabel('ECG in mili volts')\n",
    "plt.xlabel('Time in minutes')\n",
    "plt.show()"
   ]
  },
  {
   "cell_type": "code",
   "execution_count": 44,
   "id": "0509d7bd",
   "metadata": {
    "execution": {
     "iopub.execute_input": "2022-09-08T13:13:52.248663Z",
     "iopub.status.busy": "2022-09-08T13:13:52.247935Z",
     "iopub.status.idle": "2022-09-08T13:13:52.266574Z",
     "shell.execute_reply": "2022-09-08T13:13:52.267125Z",
     "shell.execute_reply.started": "2022-09-08T12:18:00.230233Z"
    },
    "id": "03f7bc6d",
    "papermill": {
     "duration": 0.153972,
     "end_time": "2022-09-08T13:13:52.267310",
     "exception": false,
     "start_time": "2022-09-08T13:13:52.113338",
     "status": "completed"
    },
    "tags": []
   },
   "outputs": [
    {
     "data": {
      "text/html": [
       "<div>\n",
       "<style scoped>\n",
       "    .dataframe tbody tr th:only-of-type {\n",
       "        vertical-align: middle;\n",
       "    }\n",
       "\n",
       "    .dataframe tbody tr th {\n",
       "        vertical-align: top;\n",
       "    }\n",
       "\n",
       "    .dataframe thead th {\n",
       "        text-align: right;\n",
       "    }\n",
       "</style>\n",
       "<table border=\"1\" class=\"dataframe\">\n",
       "  <thead>\n",
       "    <tr style=\"text-align: right;\">\n",
       "      <th></th>\n",
       "      <th>0</th>\n",
       "      <th>1</th>\n",
       "      <th>2</th>\n",
       "      <th>3</th>\n",
       "      <th>4</th>\n",
       "      <th>5</th>\n",
       "      <th>6</th>\n",
       "      <th>7</th>\n",
       "      <th>8</th>\n",
       "      <th>9</th>\n",
       "      <th>...</th>\n",
       "      <th>196</th>\n",
       "      <th>197</th>\n",
       "      <th>198</th>\n",
       "      <th>199</th>\n",
       "      <th>200</th>\n",
       "      <th>201</th>\n",
       "      <th>202</th>\n",
       "      <th>203</th>\n",
       "      <th>204</th>\n",
       "      <th>205</th>\n",
       "    </tr>\n",
       "  </thead>\n",
       "  <tbody>\n",
       "    <tr>\n",
       "      <th>28835</th>\n",
       "      <td>2.478851</td>\n",
       "      <td>0.843515</td>\n",
       "      <td>0.635336</td>\n",
       "      <td>0.849471</td>\n",
       "      <td>0.272766</td>\n",
       "      <td>0.162583</td>\n",
       "      <td>0.330936</td>\n",
       "      <td>0.116040</td>\n",
       "      <td>0.088755</td>\n",
       "      <td>0.079581</td>\n",
       "      <td>...</td>\n",
       "      <td>0.0</td>\n",
       "      <td>0.0</td>\n",
       "      <td>0.0</td>\n",
       "      <td>0.0</td>\n",
       "      <td>0.0</td>\n",
       "      <td>0.0</td>\n",
       "      <td>0.0</td>\n",
       "      <td>0.0</td>\n",
       "      <td>0.0</td>\n",
       "      <td>0</td>\n",
       "    </tr>\n",
       "    <tr>\n",
       "      <th>36892</th>\n",
       "      <td>1.983851</td>\n",
       "      <td>0.611365</td>\n",
       "      <td>0.416940</td>\n",
       "      <td>0.519544</td>\n",
       "      <td>0.168656</td>\n",
       "      <td>0.106371</td>\n",
       "      <td>0.204343</td>\n",
       "      <td>0.081404</td>\n",
       "      <td>0.055998</td>\n",
       "      <td>0.187961</td>\n",
       "      <td>...</td>\n",
       "      <td>0.0</td>\n",
       "      <td>0.0</td>\n",
       "      <td>0.0</td>\n",
       "      <td>0.0</td>\n",
       "      <td>0.0</td>\n",
       "      <td>0.0</td>\n",
       "      <td>0.0</td>\n",
       "      <td>0.0</td>\n",
       "      <td>0.0</td>\n",
       "      <td>0</td>\n",
       "    </tr>\n",
       "    <tr>\n",
       "      <th>42165</th>\n",
       "      <td>1.904823</td>\n",
       "      <td>0.621889</td>\n",
       "      <td>0.282934</td>\n",
       "      <td>0.367337</td>\n",
       "      <td>0.115477</td>\n",
       "      <td>0.000000</td>\n",
       "      <td>0.503329</td>\n",
       "      <td>0.173483</td>\n",
       "      <td>0.285128</td>\n",
       "      <td>1.024120</td>\n",
       "      <td>...</td>\n",
       "      <td>0.0</td>\n",
       "      <td>0.0</td>\n",
       "      <td>0.0</td>\n",
       "      <td>0.0</td>\n",
       "      <td>0.0</td>\n",
       "      <td>0.0</td>\n",
       "      <td>0.0</td>\n",
       "      <td>0.0</td>\n",
       "      <td>0.0</td>\n",
       "      <td>0</td>\n",
       "    </tr>\n",
       "    <tr>\n",
       "      <th>26775</th>\n",
       "      <td>2.027407</td>\n",
       "      <td>0.758867</td>\n",
       "      <td>0.268541</td>\n",
       "      <td>0.516478</td>\n",
       "      <td>0.207738</td>\n",
       "      <td>0.072621</td>\n",
       "      <td>0.430443</td>\n",
       "      <td>0.129204</td>\n",
       "      <td>0.252421</td>\n",
       "      <td>1.127977</td>\n",
       "      <td>...</td>\n",
       "      <td>0.0</td>\n",
       "      <td>0.0</td>\n",
       "      <td>0.0</td>\n",
       "      <td>0.0</td>\n",
       "      <td>0.0</td>\n",
       "      <td>0.0</td>\n",
       "      <td>0.0</td>\n",
       "      <td>0.0</td>\n",
       "      <td>0.0</td>\n",
       "      <td>0</td>\n",
       "    </tr>\n",
       "    <tr>\n",
       "      <th>47837</th>\n",
       "      <td>2.310946</td>\n",
       "      <td>0.861902</td>\n",
       "      <td>0.449044</td>\n",
       "      <td>0.446218</td>\n",
       "      <td>0.228932</td>\n",
       "      <td>0.217286</td>\n",
       "      <td>0.480387</td>\n",
       "      <td>0.166712</td>\n",
       "      <td>0.156076</td>\n",
       "      <td>0.497776</td>\n",
       "      <td>...</td>\n",
       "      <td>0.0</td>\n",
       "      <td>0.0</td>\n",
       "      <td>0.0</td>\n",
       "      <td>0.0</td>\n",
       "      <td>0.0</td>\n",
       "      <td>0.0</td>\n",
       "      <td>0.0</td>\n",
       "      <td>0.0</td>\n",
       "      <td>0.0</td>\n",
       "      <td>0</td>\n",
       "    </tr>\n",
       "  </tbody>\n",
       "</table>\n",
       "<p>5 rows × 206 columns</p>\n",
       "</div>"
      ],
      "text/plain": [
       "            0         1         2         3         4         5         6    \\\n",
       "28835  2.478851  0.843515  0.635336  0.849471  0.272766  0.162583  0.330936   \n",
       "36892  1.983851  0.611365  0.416940  0.519544  0.168656  0.106371  0.204343   \n",
       "42165  1.904823  0.621889  0.282934  0.367337  0.115477  0.000000  0.503329   \n",
       "26775  2.027407  0.758867  0.268541  0.516478  0.207738  0.072621  0.430443   \n",
       "47837  2.310946  0.861902  0.449044  0.446218  0.228932  0.217286  0.480387   \n",
       "\n",
       "            7         8         9    ...  196  197  198  199  200  201  202  \\\n",
       "28835  0.116040  0.088755  0.079581  ...  0.0  0.0  0.0  0.0  0.0  0.0  0.0   \n",
       "36892  0.081404  0.055998  0.187961  ...  0.0  0.0  0.0  0.0  0.0  0.0  0.0   \n",
       "42165  0.173483  0.285128  1.024120  ...  0.0  0.0  0.0  0.0  0.0  0.0  0.0   \n",
       "26775  0.129204  0.252421  1.127977  ...  0.0  0.0  0.0  0.0  0.0  0.0  0.0   \n",
       "47837  0.166712  0.156076  0.497776  ...  0.0  0.0  0.0  0.0  0.0  0.0  0.0   \n",
       "\n",
       "       203  204  205  \n",
       "28835  0.0  0.0    0  \n",
       "36892  0.0  0.0    0  \n",
       "42165  0.0  0.0    0  \n",
       "26775  0.0  0.0    0  \n",
       "47837  0.0  0.0    0  \n",
       "\n",
       "[5 rows x 206 columns]"
      ]
     },
     "execution_count": 44,
     "metadata": {},
     "output_type": "execute_result"
    }
   ],
   "source": [
    "df.head()"
   ]
  },
  {
   "cell_type": "markdown",
   "id": "66e16402",
   "metadata": {
    "id": "cf51b3be",
    "papermill": {
     "duration": 0.122612,
     "end_time": "2022-09-08T13:13:52.514229",
     "exception": false,
     "start_time": "2022-09-08T13:13:52.391617",
     "status": "completed"
    },
    "tags": []
   },
   "source": [
    "## The Fourier Transform"
   ]
  },
  {
   "cell_type": "markdown",
   "id": "f482e367",
   "metadata": {
    "id": "3ff85b98",
    "papermill": {
     "duration": 0.124699,
     "end_time": "2022-09-08T13:13:52.766041",
     "exception": false,
     "start_time": "2022-09-08T13:13:52.641342",
     "status": "completed"
    },
    "tags": []
   },
   "source": [
    "Fourier analysis is a field that studies how a mathematical function can be decomposed into a series of simpler trigonometric functions."
   ]
  },
  {
   "cell_type": "markdown",
   "id": "21fc2c67",
   "metadata": {
    "id": "d1e8b2f8",
    "papermill": {
     "duration": 0.121469,
     "end_time": "2022-09-08T13:13:53.013415",
     "exception": false,
     "start_time": "2022-09-08T13:13:52.891946",
     "status": "completed"
    },
    "tags": []
   },
   "source": [
    "display sine wave : "
   ]
  },
  {
   "cell_type": "code",
   "execution_count": 45,
   "id": "7ce5aa6c",
   "metadata": {
    "execution": {
     "iopub.execute_input": "2022-09-08T13:13:53.264678Z",
     "iopub.status.busy": "2022-09-08T13:13:53.262457Z",
     "iopub.status.idle": "2022-09-08T13:13:53.267758Z",
     "shell.execute_reply": "2022-09-08T13:13:53.267131Z",
     "shell.execute_reply.started": "2022-09-08T12:18:00.262136Z"
    },
    "id": "a955f1f1",
    "papermill": {
     "duration": 0.129733,
     "end_time": "2022-09-08T13:13:53.267922",
     "exception": false,
     "start_time": "2022-09-08T13:13:53.138189",
     "status": "completed"
    },
    "tags": []
   },
   "outputs": [],
   "source": [
    "x = train_data.iloc[0,:].values"
   ]
  },
  {
   "cell_type": "code",
   "execution_count": 46,
   "id": "e8d4ecd0",
   "metadata": {
    "execution": {
     "iopub.execute_input": "2022-09-08T13:13:53.517566Z",
     "iopub.status.busy": "2022-09-08T13:13:53.516856Z",
     "iopub.status.idle": "2022-09-08T13:13:53.519768Z",
     "shell.execute_reply": "2022-09-08T13:13:53.519267Z",
     "shell.execute_reply.started": "2022-09-08T12:18:00.269298Z"
    },
    "id": "f9b0ceda",
    "papermill": {
     "duration": 0.131205,
     "end_time": "2022-09-08T13:13:53.519936",
     "exception": false,
     "start_time": "2022-09-08T13:13:53.388731",
     "status": "completed"
    },
    "tags": []
   },
   "outputs": [],
   "source": [
    "from numpy.fft import fft, ifft"
   ]
  },
  {
   "cell_type": "code",
   "execution_count": 47,
   "id": "81311cb7",
   "metadata": {
    "execution": {
     "iopub.execute_input": "2022-09-08T13:13:53.792422Z",
     "iopub.status.busy": "2022-09-08T13:13:53.791308Z",
     "iopub.status.idle": "2022-09-08T13:13:53.793331Z",
     "shell.execute_reply": "2022-09-08T13:13:53.793839Z",
     "shell.execute_reply.started": "2022-09-08T12:18:00.282409Z"
    },
    "id": "65ced66e",
    "papermill": {
     "duration": 0.15172,
     "end_time": "2022-09-08T13:13:53.794052",
     "exception": false,
     "start_time": "2022-09-08T13:13:53.642332",
     "status": "completed"
    },
    "tags": []
   },
   "outputs": [],
   "source": [
    "x = train_data.iloc[0,:]\n",
    "X = fft(x)"
   ]
  },
  {
   "cell_type": "code",
   "execution_count": 48,
   "id": "69fd5e46",
   "metadata": {
    "execution": {
     "iopub.execute_input": "2022-09-08T13:13:54.068636Z",
     "iopub.status.busy": "2022-09-08T13:13:54.057587Z",
     "iopub.status.idle": "2022-09-08T13:13:54.239542Z",
     "shell.execute_reply": "2022-09-08T13:13:54.240054Z",
     "shell.execute_reply.started": "2022-09-08T12:18:00.295523Z"
    },
    "id": "feb6c8ae",
    "papermill": {
     "duration": 0.320229,
     "end_time": "2022-09-08T13:13:54.240244",
     "exception": false,
     "start_time": "2022-09-08T13:13:53.920015",
     "status": "completed"
    },
    "tags": []
   },
   "outputs": [
    {
     "name": "stderr",
     "output_type": "stream",
     "text": [
      "C:\\ProgramData\\Anaconda3\\lib\\site-packages\\matplotlib\\cbook\\__init__.py:1298: ComplexWarning: Casting complex values to real discards the imaginary part\n",
      "  return np.asarray(x, float)\n"
     ]
    },
    {
     "data": {
      "text/plain": [
       "[<matplotlib.lines.Line2D at 0x1fb5b4698b0>]"
      ]
     },
     "execution_count": 48,
     "metadata": {},
     "output_type": "execute_result"
    },
    {
     "data": {
      "image/png": "[encoded data removed]",
      "text/plain": [
       "<Figure size 432x288 with 1 Axes>"
      ]
     },
     "metadata": {
      "needs_background": "light"
     },
     "output_type": "display_data"
    }
   ],
   "source": [
    "plt.plot(X)"
   ]
  },
  {
   "cell_type": "code",
   "execution_count": 49,
   "id": "cafd9f85",
   "metadata": {
    "execution": {
     "iopub.execute_input": "2022-09-08T13:13:54.509423Z",
     "iopub.status.busy": "2022-09-08T13:13:54.493565Z",
     "iopub.status.idle": "2022-09-08T13:13:54.692343Z",
     "shell.execute_reply": "2022-09-08T13:13:54.692810Z",
     "shell.execute_reply.started": "2022-09-08T12:18:00.496215Z"
    },
    "id": "730f9ec0",
    "papermill": {
     "duration": 0.329784,
     "end_time": "2022-09-08T13:13:54.693039",
     "exception": false,
     "start_time": "2022-09-08T13:13:54.363255",
     "status": "completed"
    },
    "tags": []
   },
   "outputs": [
    {
     "data": {
      "image/png": "[encoded data removed]",
      "text/plain": [
       "<Figure size 864x432 with 1 Axes>"
      ]
     },
     "metadata": {
      "needs_background": "light"
     },
     "output_type": "display_data"
    }
   ],
   "source": [
    "X = fft(train_data.iloc[0,:204])\n",
    "N = len(X)\n",
    "n = np.arange(N)\n",
    "# get the sampling rate\n",
    "sr = 1 / (60*60)\n",
    "T = N/sr\n",
    "freq = n/T \n",
    "\n",
    "# Get the one-sided specturm\n",
    "n_oneside = N//2\n",
    "# get the one side frequency\n",
    "f_oneside = freq[:n_oneside]\n",
    "\n",
    "plt.figure(figsize = (12, 6))\n",
    "plt.plot(f_oneside, np.abs(X[:n_oneside]), 'b')\n",
    "plt.xlabel('Freq (Hz)')\n",
    "plt.ylabel('FFT Amplitude |X(freq)|')\n",
    "plt.show()"
   ]
  },
  {
   "cell_type": "code",
   "execution_count": 50,
   "id": "93832561",
   "metadata": {
    "execution": {
     "iopub.execute_input": "2022-09-08T13:13:54.949652Z",
     "iopub.status.busy": "2022-09-08T13:13:54.948969Z",
     "iopub.status.idle": "2022-09-08T13:13:54.951303Z",
     "shell.execute_reply": "2022-09-08T13:13:54.951934Z",
     "shell.execute_reply.started": "2022-09-08T12:18:00.707538Z"
    },
    "id": "b090d5a3",
    "papermill": {
     "duration": 0.134491,
     "end_time": "2022-09-08T13:13:54.952122",
     "exception": false,
     "start_time": "2022-09-08T13:13:54.817631",
     "status": "completed"
    },
    "tags": []
   },
   "outputs": [],
   "source": [
    "N = len(X)\n",
    "n = np.arange(N)\n",
    "T = N/sr\n",
    "freq = n/T"
   ]
  },
  {
   "cell_type": "code",
   "execution_count": 51,
   "id": "a1e62905",
   "metadata": {
    "execution": {
     "iopub.execute_input": "2022-09-08T13:13:55.208190Z",
     "iopub.status.busy": "2022-09-08T13:13:55.207481Z",
     "iopub.status.idle": "2022-09-08T13:13:55.402612Z",
     "shell.execute_reply": "2022-09-08T13:13:55.402091Z",
     "shell.execute_reply.started": "2022-09-08T12:18:00.713823Z"
    },
    "id": "8af2d613",
    "papermill": {
     "duration": 0.322267,
     "end_time": "2022-09-08T13:13:55.402764",
     "exception": false,
     "start_time": "2022-09-08T13:13:55.080497",
     "status": "completed"
    },
    "tags": []
   },
   "outputs": [
    {
     "name": "stderr",
     "output_type": "stream",
     "text": [
      "C:\\Users\\JOVIALN\\AppData\\Local\\Temp\\ipykernel_3140\\1891753606.py:1: MatplotlibDeprecationWarning: Passing the linefmt parameter positionally is deprecated since Matplotlib 3.5; the parameter will become keyword-only two minor releases later.\n",
      "  plt.stem(freq, np.abs(X), 'b', \\\n"
     ]
    },
    {
     "data": {
      "image/png": "[encoded data removed]",
      "text/plain": [
       "<Figure size 432x288 with 1 Axes>"
      ]
     },
     "metadata": {
      "needs_background": "light"
     },
     "output_type": "display_data"
    }
   ],
   "source": [
    "plt.stem(freq, np.abs(X), 'b', \\\n",
    "         markerfmt=\" \", basefmt=\"-b\")\n",
    "plt.xlabel('Freq (Hz)')\n",
    "plt.ylabel('FFT Amplitude |X(freq)|')\n",
    "plt.xlim(0, 10);"
   ]
  },
  {
   "cell_type": "markdown",
   "id": "c6736c2f",
   "metadata": {
    "id": "ae1e09b5",
    "papermill": {
     "duration": 0.127713,
     "end_time": "2022-09-08T13:13:55.658544",
     "exception": false,
     "start_time": "2022-09-08T13:13:55.530831",
     "status": "completed"
    },
    "tags": []
   },
   "source": [
    "### Get the ifft"
   ]
  },
  {
   "cell_type": "code",
   "execution_count": 52,
   "id": "d30d1aef",
   "metadata": {
    "execution": {
     "iopub.execute_input": "2022-09-08T13:13:55.930833Z",
     "iopub.status.busy": "2022-09-08T13:13:55.930078Z",
     "iopub.status.idle": "2022-09-08T13:13:56.137921Z",
     "shell.execute_reply": "2022-09-08T13:13:56.137342Z",
     "shell.execute_reply.started": "2022-09-08T12:18:00.921266Z"
    },
    "id": "c6d42f5b",
    "papermill": {
     "duration": 0.354212,
     "end_time": "2022-09-08T13:13:56.138119",
     "exception": false,
     "start_time": "2022-09-08T13:13:55.783907",
     "status": "completed"
    },
    "tags": []
   },
   "outputs": [
    {
     "name": "stderr",
     "output_type": "stream",
     "text": [
      "C:\\ProgramData\\Anaconda3\\lib\\site-packages\\matplotlib\\cbook\\__init__.py:1298: ComplexWarning: Casting complex values to real discards the imaginary part\n",
      "  return np.asarray(x, float)\n"
     ]
    },
    {
     "data": {
      "image/png": "[encoded data removed]",
      "text/plain": [
       "<Figure size 432x288 with 1 Axes>"
      ]
     },
     "metadata": {
      "needs_background": "light"
     },
     "output_type": "display_data"
    }
   ],
   "source": [
    "plt.plot(ifft(X), 'r')\n",
    "plt.xlabel('Time (s)')\n",
    "plt.ylabel('Amplitude')\n",
    "plt.tight_layout()\n",
    "plt.show()"
   ]
  },
  {
   "cell_type": "markdown",
   "id": "b6ea0427",
   "metadata": {
    "id": "5a15602a",
    "papermill": {
     "duration": 0.12662,
     "end_time": "2022-09-08T13:13:56.392045",
     "exception": false,
     "start_time": "2022-09-08T13:13:56.265425",
     "status": "completed"
    },
    "tags": []
   },
   "source": [
    "### convert frequency to hour"
   ]
  },
  {
   "cell_type": "code",
   "execution_count": 53,
   "id": "e2641d16",
   "metadata": {
    "execution": {
     "iopub.execute_input": "2022-09-08T13:13:56.684833Z",
     "iopub.status.busy": "2022-09-08T13:13:56.670736Z",
     "iopub.status.idle": "2022-09-08T13:13:56.843233Z",
     "shell.execute_reply": "2022-09-08T13:13:56.843745Z",
     "shell.execute_reply.started": "2022-09-08T12:18:01.155461Z"
    },
    "id": "400f8050",
    "papermill": {
     "duration": 0.323706,
     "end_time": "2022-09-08T13:13:56.843969",
     "exception": false,
     "start_time": "2022-09-08T13:13:56.520263",
     "status": "completed"
    },
    "tags": []
   },
   "outputs": [
    {
     "name": "stderr",
     "output_type": "stream",
     "text": [
      "C:\\Users\\JOVIALN\\AppData\\Local\\Temp\\ipykernel_3140\\2023998756.py:1: RuntimeWarning: divide by zero encountered in true_divide\n",
      "  t_h = 1/f_oneside / (60 * 60)\n"
     ]
    },
    {
     "data": {
      "image/png": "[encoded data removed]",
      "text/plain": [
       "<Figure size 864x432 with 1 Axes>"
      ]
     },
     "metadata": {
      "needs_background": "light"
     },
     "output_type": "display_data"
    }
   ],
   "source": [
    "t_h = 1/f_oneside / (60 * 60)\n",
    "\n",
    "plt.figure(figsize=(12,6))\n",
    "plt.plot(t_h, np.abs(X[:n_oneside])/n_oneside)\n",
    "plt.xticks([12, 24, 84, 168])\n",
    "plt.xlim(0, 200)\n",
    "plt.xlabel('Period (hour)')\n",
    "plt.show()"
   ]
  },
  {
   "cell_type": "markdown",
   "id": "98114789",
   "metadata": {
    "id": "0f28866e",
    "papermill": {
     "duration": 0.134107,
     "end_time": "2022-09-08T13:13:57.113354",
     "exception": false,
     "start_time": "2022-09-08T13:13:56.979247",
     "status": "completed"
    },
    "tags": []
   },
   "source": [
    "as we see the doctor along with classifier model  can <b style = \"color : red\">notice and diagnose</b> type of the case from transforming the ploting using Fourier transform by <b style = \"color : blue\">fft</b> function and <b style = \"color : blue\">ifft </b> function and we noticed that  also the data will be changed at position <b style = \"color : red\">99</b>"
   ]
  },
  {
   "cell_type": "markdown",
   "id": "478caabe",
   "metadata": {
    "id": "a8d320cc",
    "papermill": {
     "duration": 0.129002,
     "end_time": "2022-09-08T13:13:57.371087",
     "exception": false,
     "start_time": "2022-09-08T13:13:57.242085",
     "status": "completed"
    },
    "tags": []
   },
   "source": [
    "## preprocessing step"
   ]
  },
  {
   "cell_type": "markdown",
   "id": "82469e98",
   "metadata": {
    "id": "3ae16918",
    "papermill": {
     "duration": 0.132344,
     "end_time": "2022-09-08T13:13:57.633022",
     "exception": false,
     "start_time": "2022-09-08T13:13:57.500678",
     "status": "completed"
    },
    "tags": []
   },
   "source": [
    "<b> <u>1. set X and y variables </u></b>"
   ]
  },
  {
   "cell_type": "code",
   "execution_count": 54,
   "id": "4d4074f5",
   "metadata": {
    "execution": {
     "iopub.execute_input": "2022-09-08T13:13:57.895646Z",
     "iopub.status.busy": "2022-09-08T13:13:57.894763Z",
     "iopub.status.idle": "2022-09-08T13:13:57.989405Z",
     "shell.execute_reply": "2022-09-08T13:13:57.988781Z",
     "shell.execute_reply.started": "2022-09-08T12:18:01.355072Z"
    },
    "id": "ce943a33",
    "papermill": {
     "duration": 0.225706,
     "end_time": "2022-09-08T13:13:57.989579",
     "exception": false,
     "start_time": "2022-09-08T13:13:57.763873",
     "status": "completed"
    },
    "tags": []
   },
   "outputs": [],
   "source": [
    "from sklearn.model_selection import train_test_split"
   ]
  },
  {
   "cell_type": "code",
   "execution_count": 55,
   "id": "96a8fb88",
   "metadata": {
    "execution": {
     "iopub.execute_input": "2022-09-08T13:13:58.254112Z",
     "iopub.status.busy": "2022-09-08T13:13:58.253374Z",
     "iopub.status.idle": "2022-09-08T13:13:58.305256Z",
     "shell.execute_reply": "2022-09-08T13:13:58.305780Z",
     "shell.execute_reply.started": "2022-09-08T12:18:01.446560Z"
    },
    "id": "fa8035ae",
    "papermill": {
     "duration": 0.185872,
     "end_time": "2022-09-08T13:13:58.306002",
     "exception": false,
     "start_time": "2022-09-08T13:13:58.120130",
     "status": "completed"
    },
    "tags": []
   },
   "outputs": [],
   "source": [
    "X_train = train_data.drop(205, axis=1)\n",
    "y_train = train_data[205]"
   ]
  },
  {
   "cell_type": "code",
   "execution_count": 56,
   "id": "ba8b3c32",
   "metadata": {
    "execution": {
     "iopub.execute_input": "2022-09-08T13:13:58.571532Z",
     "iopub.status.busy": "2022-09-08T13:13:58.570768Z",
     "iopub.status.idle": "2022-09-08T13:13:58.580233Z",
     "shell.execute_reply": "2022-09-08T13:13:58.579644Z",
     "shell.execute_reply.started": "2022-09-08T12:18:01.501332Z"
    },
    "id": "523ff7a4",
    "papermill": {
     "duration": 0.141229,
     "end_time": "2022-09-08T13:13:58.580406",
     "exception": false,
     "start_time": "2022-09-08T13:13:58.439177",
     "status": "completed"
    },
    "tags": []
   },
   "outputs": [],
   "source": [
    "X_test = test_data.drop(205, axis=1)\n",
    "y_test = test_data[205]"
   ]
  },
  {
   "cell_type": "code",
   "execution_count": 57,
   "id": "b8b43a3d",
   "metadata": {
    "execution": {
     "iopub.execute_input": "2022-09-08T13:13:58.850602Z",
     "iopub.status.busy": "2022-09-08T13:13:58.849501Z",
     "iopub.status.idle": "2022-09-08T13:13:58.851530Z",
     "shell.execute_reply": "2022-09-08T13:13:58.852241Z",
     "shell.execute_reply.started": "2022-09-08T12:18:01.516931Z"
    },
    "id": "3890265f",
    "papermill": {
     "duration": 0.138545,
     "end_time": "2022-09-08T13:13:58.852430",
     "exception": false,
     "start_time": "2022-09-08T13:13:58.713885",
     "status": "completed"
    },
    "tags": []
   },
   "outputs": [],
   "source": [
    "X_train = X_train.values\n",
    "y_train = y_train.values"
   ]
  },
  {
   "cell_type": "code",
   "execution_count": 58,
   "id": "322c2950",
   "metadata": {
    "execution": {
     "iopub.execute_input": "2022-09-08T13:13:59.117783Z",
     "iopub.status.busy": "2022-09-08T13:13:59.116982Z",
     "iopub.status.idle": "2022-09-08T13:13:59.120448Z",
     "shell.execute_reply": "2022-09-08T13:13:59.119707Z",
     "shell.execute_reply.started": "2022-09-08T12:18:01.523416Z"
    },
    "id": "9e1e0932",
    "papermill": {
     "duration": 0.138941,
     "end_time": "2022-09-08T13:13:59.120609",
     "exception": false,
     "start_time": "2022-09-08T13:13:58.981668",
     "status": "completed"
    },
    "tags": []
   },
   "outputs": [],
   "source": [
    "X_test = X_test.values\n",
    "y_test = y_test.values"
   ]
  },
  {
   "cell_type": "code",
   "execution_count": 59,
   "id": "fbe9a3cd",
   "metadata": {
    "execution": {
     "iopub.execute_input": "2022-09-08T13:13:59.391163Z",
     "iopub.status.busy": "2022-09-08T13:13:59.390385Z",
     "iopub.status.idle": "2022-09-08T13:13:59.402872Z",
     "shell.execute_reply": "2022-09-08T13:13:59.402159Z",
     "shell.execute_reply.started": "2022-09-08T12:18:01.536187Z"
    },
    "id": "8825c239",
    "papermill": {
     "duration": 0.150875,
     "end_time": "2022-09-08T13:13:59.403044",
     "exception": false,
     "start_time": "2022-09-08T13:13:59.252169",
     "status": "completed"
    },
    "tags": []
   },
   "outputs": [
    {
     "data": {
      "text/html": [
       "<div>\n",
       "<style scoped>\n",
       "    .dataframe tbody tr th:only-of-type {\n",
       "        vertical-align: middle;\n",
       "    }\n",
       "\n",
       "    .dataframe tbody tr th {\n",
       "        vertical-align: top;\n",
       "    }\n",
       "\n",
       "    .dataframe thead th {\n",
       "        text-align: right;\n",
       "    }\n",
       "</style>\n",
       "<table border=\"1\" class=\"dataframe\">\n",
       "  <thead>\n",
       "    <tr style=\"text-align: right;\">\n",
       "      <th></th>\n",
       "      <th>0</th>\n",
       "      <th>1</th>\n",
       "    </tr>\n",
       "  </thead>\n",
       "  <tbody>\n",
       "    <tr>\n",
       "      <th>0</th>\n",
       "      <td>0</td>\n",
       "      <td>20000</td>\n",
       "    </tr>\n",
       "    <tr>\n",
       "      <th>1</th>\n",
       "      <td>1</td>\n",
       "      <td>20000</td>\n",
       "    </tr>\n",
       "    <tr>\n",
       "      <th>2</th>\n",
       "      <td>2</td>\n",
       "      <td>20000</td>\n",
       "    </tr>\n",
       "    <tr>\n",
       "      <th>3</th>\n",
       "      <td>3</td>\n",
       "      <td>20000</td>\n",
       "    </tr>\n",
       "  </tbody>\n",
       "</table>\n",
       "</div>"
      ],
      "text/plain": [
       "   0      1\n",
       "0  0  20000\n",
       "1  1  20000\n",
       "2  2  20000\n",
       "3  3  20000"
      ]
     },
     "execution_count": 59,
     "metadata": {},
     "output_type": "execute_result"
    }
   ],
   "source": [
    "unique, counts = np.unique(y_train, return_counts=True)\n",
    "\n",
    "pd.DataFrame(np.asarray((unique, counts)).T)"
   ]
  },
  {
   "cell_type": "markdown",
   "id": "c22d66f7",
   "metadata": {
    "id": "488121a4",
    "papermill": {
     "duration": 0.129558,
     "end_time": "2022-09-08T13:13:59.663230",
     "exception": false,
     "start_time": "2022-09-08T13:13:59.533672",
     "status": "completed"
    },
    "tags": []
   },
   "source": [
    "cheack that all is right"
   ]
  },
  {
   "cell_type": "code",
   "execution_count": 60,
   "id": "14a07649",
   "metadata": {
    "execution": {
     "iopub.execute_input": "2022-09-08T13:13:59.929973Z",
     "iopub.status.busy": "2022-09-08T13:13:59.928978Z",
     "iopub.status.idle": "2022-09-08T13:13:59.931154Z",
     "shell.execute_reply": "2022-09-08T13:13:59.931765Z",
     "shell.execute_reply.started": "2022-09-08T12:18:01.559935Z"
    },
    "id": "6fb8458d",
    "papermill": {
     "duration": 0.137391,
     "end_time": "2022-09-08T13:13:59.931971",
     "exception": false,
     "start_time": "2022-09-08T13:13:59.794580",
     "status": "completed"
    },
    "tags": []
   },
   "outputs": [],
   "source": [
    "val = X_train[0][1]"
   ]
  },
  {
   "cell_type": "code",
   "execution_count": 61,
   "id": "4bfb6234",
   "metadata": {
    "execution": {
     "iopub.execute_input": "2022-09-08T13:14:00.199364Z",
     "iopub.status.busy": "2022-09-08T13:14:00.198369Z",
     "iopub.status.idle": "2022-09-08T13:14:00.202679Z",
     "shell.execute_reply": "2022-09-08T13:14:00.203358Z",
     "shell.execute_reply.started": "2022-09-08T12:18:01.565815Z"
    },
    "id": "342676fe",
    "papermill": {
     "duration": 0.138138,
     "end_time": "2022-09-08T13:14:00.203544",
     "exception": false,
     "start_time": "2022-09-08T13:14:00.065406",
     "status": "completed"
    },
    "tags": []
   },
   "outputs": [],
   "source": [
    "from sklearn.preprocessing import Normalizer\n",
    "from sklearn.preprocessing import StandardScaler"
   ]
  },
  {
   "cell_type": "code",
   "execution_count": 62,
   "id": "728c1a11",
   "metadata": {
    "execution": {
     "iopub.execute_input": "2022-09-08T13:14:00.466550Z",
     "iopub.status.busy": "2022-09-08T13:14:00.465624Z",
     "iopub.status.idle": "2022-09-08T13:14:00.470172Z",
     "shell.execute_reply": "2022-09-08T13:14:00.469536Z",
     "shell.execute_reply.started": "2022-09-08T12:18:01.576900Z"
    },
    "id": "f837589f",
    "papermill": {
     "duration": 0.137299,
     "end_time": "2022-09-08T13:14:00.470358",
     "exception": false,
     "start_time": "2022-09-08T13:14:00.333059",
     "status": "completed"
    },
    "tags": []
   },
   "outputs": [],
   "source": [
    "norm = Normalizer()\n",
    "std = StandardScaler()"
   ]
  },
  {
   "cell_type": "code",
   "execution_count": 63,
   "id": "6f6953b6",
   "metadata": {
    "execution": {
     "iopub.execute_input": "2022-09-08T13:14:00.747526Z",
     "iopub.status.busy": "2022-09-08T13:14:00.746493Z",
     "iopub.status.idle": "2022-09-08T13:14:00.749527Z",
     "shell.execute_reply": "2022-09-08T13:14:00.748974Z",
     "shell.execute_reply.started": "2022-09-08T12:18:01.588333Z"
    },
    "id": "e0485905",
    "papermill": {
     "duration": 0.146546,
     "end_time": "2022-09-08T13:14:00.749687",
     "exception": false,
     "start_time": "2022-09-08T13:14:00.603141",
     "status": "completed"
    },
    "tags": []
   },
   "outputs": [],
   "source": [
    "val1 = norm.fit_transform([[val]])\n",
    "val2 = std.fit_transform([[val]])"
   ]
  },
  {
   "cell_type": "markdown",
   "id": "a1b11cd7",
   "metadata": {
    "id": "63bb5663",
    "papermill": {
     "duration": 0.130891,
     "end_time": "2022-09-08T13:14:01.015057",
     "exception": false,
     "start_time": "2022-09-08T13:14:00.884166",
     "status": "completed"
    },
    "tags": []
   },
   "source": [
    "<b> <u>2. building the model </u></b>"
   ]
  },
  {
   "cell_type": "code",
   "execution_count": 65,
   "id": "2076469e",
   "metadata": {},
   "outputs": [
    {
     "name": "stdout",
     "output_type": "stream",
     "text": [
      "Defaulting to user installation because normal site-packages is not writeable\n",
      "Requirement already satisfied: xgboost in c:\\users\\jovialn\\appdata\\roaming\\python\\python39\\site-packages (1.6.2)\n",
      "Requirement already satisfied: scipy in c:\\programdata\\anaconda3\\lib\\site-packages (from xgboost) (1.7.3)\n",
      "Requirement already satisfied: numpy in c:\\programdata\\anaconda3\\lib\\site-packages (from xgboost) (1.21.5)\n"
     ]
    }
   ],
   "source": [
    "!pip install xgboost"
   ]
  },
  {
   "cell_type": "code",
   "execution_count": 64,
   "id": "28c76d6d",
   "metadata": {
    "execution": {
     "iopub.execute_input": "2022-09-08T13:14:01.279802Z",
     "iopub.status.busy": "2022-09-08T13:14:01.279083Z",
     "iopub.status.idle": "2022-09-08T13:14:01.653245Z",
     "shell.execute_reply": "2022-09-08T13:14:01.652623Z",
     "shell.execute_reply.started": "2022-09-08T12:19:30.925195Z"
    },
    "id": "20aff906",
    "papermill": {
     "duration": 0.507017,
     "end_time": "2022-09-08T13:14:01.653673",
     "exception": false,
     "start_time": "2022-09-08T13:14:01.146656",
     "status": "completed"
    },
    "tags": []
   },
   "outputs": [],
   "source": [
    "from sklearn.linear_model import LogisticRegression\n",
    "from sklearn.neighbors import KNeighborsClassifier\n",
    "from sklearn.svm import SVC\n",
    "from sklearn.naive_bayes import GaussianNB\n",
    "from sklearn.tree import DecisionTreeClassifier\n",
    "from sklearn.ensemble import RandomForestClassifier\n",
    "from xgboost import XGBClassifier\n",
    "\n",
    "from sklearn.metrics import confusion_matrix, accuracy_score, precision_score, recall_score, f1_score, fbeta_score"
   ]
  },
  {
   "cell_type": "code",
   "execution_count": 65,
   "id": "0108dfef",
   "metadata": {
    "execution": {
     "iopub.execute_input": "2022-09-08T13:14:01.923635Z",
     "iopub.status.busy": "2022-09-08T13:14:01.922885Z",
     "iopub.status.idle": "2022-09-08T13:14:01.925275Z",
     "shell.execute_reply": "2022-09-08T13:14:01.925786Z",
     "shell.execute_reply.started": "2022-09-08T12:19:33.927232Z"
    },
    "id": "70025303",
    "papermill": {
     "duration": 0.141081,
     "end_time": "2022-09-08T13:14:01.926020",
     "exception": false,
     "start_time": "2022-09-08T13:14:01.784939",
     "status": "completed"
    },
    "tags": []
   },
   "outputs": [],
   "source": [
    "models = {\n",
    "    \"LR\": LogisticRegression(solver='liblinear'),\n",
    "    \"KNN\": KNeighborsClassifier(),\n",
    "    \"DT\": DecisionTreeClassifier(),\n",
    "    \"RF\": RandomForestClassifier(),\n",
    "    \"XGB\": XGBClassifier(),\n",
    "    \"Naive Bayes\": GaussianNB(),\n",
    "    \"SVC\": SVC()\n",
    "\n",
    "}"
   ]
  },
  {
   "cell_type": "code",
   "execution_count": 66,
   "id": "c26170b8",
   "metadata": {
    "execution": {
     "iopub.execute_input": "2022-09-08T13:14:02.255325Z",
     "iopub.status.busy": "2022-09-08T13:14:02.254611Z",
     "iopub.status.idle": "2022-09-08T13:14:02.259858Z",
     "shell.execute_reply": "2022-09-08T13:14:02.260397Z",
     "shell.execute_reply.started": "2022-09-08T12:19:48.897403Z"
    },
    "papermill": {
     "duration": 0.202998,
     "end_time": "2022-09-08T13:14:02.260580",
     "exception": false,
     "start_time": "2022-09-08T13:14:02.057582",
     "status": "completed"
    },
    "tags": []
   },
   "outputs": [
    {
     "data": {
      "text/plain": [
       "numpy.ndarray"
      ]
     },
     "execution_count": 66,
     "metadata": {},
     "output_type": "execute_result"
    }
   ],
   "source": [
    "type(X_train)"
   ]
  },
  {
   "cell_type": "code",
   "execution_count": 70,
   "id": "2c3cf582",
   "metadata": {
    "execution": {
     "iopub.execute_input": "2022-09-08T13:14:02.529886Z",
     "iopub.status.busy": "2022-09-08T13:14:02.528801Z",
     "iopub.status.idle": "2022-09-08T13:16:40.831807Z",
     "shell.execute_reply": "2022-09-08T13:16:40.832441Z",
     "shell.execute_reply.started": "2022-09-08T12:19:48.909864Z"
    },
    "papermill": {
     "duration": 158.442295,
     "end_time": "2022-09-08T13:16:40.832654",
     "exception": false,
     "start_time": "2022-09-08T13:14:02.390359",
     "status": "completed"
    },
    "tags": []
   },
   "outputs": [
    {
     "name": "stdout",
     "output_type": "stream",
     "text": [
      "Defaulting to user installation because normal site-packages is not writeable\n",
      "Requirement already satisfied: scikit-learn in c:\\users\\jovialn\\appdata\\roaming\\python\\python39\\site-packages (1.1.3)\n",
      "Collecting scikit-learn\n",
      "  Downloading scikit_learn-1.2.0-cp39-cp39-win_amd64.whl (8.3 MB)\n",
      "Collecting joblib>=1.1.1\n",
      "  Downloading joblib-1.2.0-py3-none-any.whl (297 kB)\n",
      "Requirement already satisfied: scipy>=1.3.2 in c:\\programdata\\anaconda3\\lib\\site-packages (from scikit-learn) (1.7.3)\n",
      "Requirement already satisfied: threadpoolctl>=2.0.0 in c:\\programdata\\anaconda3\\lib\\site-packages (from scikit-learn) (2.2.0)\n",
      "Requirement already satisfied: numpy>=1.17.3 in c:\\programdata\\anaconda3\\lib\\site-packages (from scikit-learn) (1.21.5)\n",
      "Installing collected packages: joblib, scikit-learn\n",
      "  Attempting uninstall: scikit-learn\n",
      "    Found existing installation: scikit-learn 1.1.3\n",
      "    Uninstalling scikit-learn-1.1.3:\n",
      "      Successfully uninstalled scikit-learn-1.1.3\n"
     ]
    },
    {
     "name": "stderr",
     "output_type": "stream",
     "text": [
      "ERROR: Could not install packages due to an OSError: [WinError 5] Access is denied: 'C:\\\\Users\\\\JOVIALN\\\\AppData\\\\Roaming\\\\Python\\\\Python39\\\\site-packages\\\\~klearn\\\\.libs\\\\msvcp140.dll'\n",
      "Check the permissions.\n",
      "\n"
     ]
    }
   ],
   "source": [
    "!pip install scikit-learn  -U"
   ]
  },
  {
   "cell_type": "code",
   "execution_count": 71,
   "id": "66be3c20",
   "metadata": {
    "execution": {
     "iopub.execute_input": "2022-09-08T13:16:41.115053Z",
     "iopub.status.busy": "2022-09-08T13:16:41.113347Z",
     "iopub.status.idle": "2022-09-08T13:55:34.889061Z",
     "shell.execute_reply": "2022-09-08T13:55:34.888450Z",
     "shell.execute_reply.started": "2022-09-08T12:22:27.088364Z"
    },
    "id": "eceb3356",
    "papermill": {
     "duration": 2333.921649,
     "end_time": "2022-09-08T13:55:34.889217",
     "exception": false,
     "start_time": "2022-09-08T13:16:40.967568",
     "status": "completed"
    },
    "tags": []
   },
   "outputs": [
    {
     "name": "stdout",
     "output_type": "stream",
     "text": [
      "Training Model LR \n",
      "--------------\n",
      "Training Accuracy: 0.7965375\n",
      "Testing Accuracy: 0.793\n",
      "Testing Confusion Matrix: \n",
      "[[1433  234  279   54]\n",
      " [ 413 1393  176   18]\n",
      " [ 181   79 1680   60]\n",
      " [  72    6   84 1838]]\n",
      "Recall Score :  0.793\n",
      "Precision Score :  0.793\n",
      "Testing F-1: 0.793\n",
      "Testing F-Beta: 0.793\n",
      "------------------------------\n",
      "Training Model KNN \n",
      "--------------\n"
     ]
    },
    {
     "name": "stderr",
     "output_type": "stream",
     "text": [
      "C:\\Users\\JOVIALN\\AppData\\Roaming\\Python\\Python39\\site-packages\\sklearn\\metrics\\_classification.py:1386: UserWarning: Note that pos_label (set to 'positive') is ignored when average != 'binary' (got 'micro'). You may use labels=[pos_label] to specify a single positive class.\n",
      "  labels = [pos_label]\n",
      "C:\\Users\\JOVIALN\\AppData\\Roaming\\Python\\Python39\\site-packages\\sklearn\\metrics\\_classification.py:1386: UserWarning: Note that pos_label (set to 'positive') is ignored when average != 'binary' (got 'micro'). You may use labels=[pos_label] to specify a single positive class.\n",
      "  labels = [pos_label]\n",
      "C:\\Users\\JOVIALN\\AppData\\Roaming\\Python\\Python39\\site-packages\\sklearn\\metrics\\_classification.py:1386: UserWarning: Note that pos_label (set to 'positive') is ignored when average != 'binary' (got 'micro'). You may use labels=[pos_label] to specify a single positive class.\n",
      "  labels = [pos_label]\n",
      "C:\\Users\\JOVIALN\\AppData\\Roaming\\Python\\Python39\\site-packages\\sklearn\\metrics\\_classification.py:1386: UserWarning: Note that pos_label (set to 'positive') is ignored when average != 'binary' (got 'micro'). You may use labels=[pos_label] to specify a single positive class.\n",
      "  labels = [pos_label]\n"
     ]
    },
    {
     "name": "stdout",
     "output_type": "stream",
     "text": [
      "Training Accuracy: 0.98745\n",
      "Testing Accuracy: 0.96575\n",
      "Testing Confusion Matrix: \n",
      "[[1878   78   38    6]\n",
      " [  71 1885   34   10]\n",
      " [  14   10 1973    3]\n",
      " [   5    2    3 1990]]\n",
      "Recall Score :  0.96575\n",
      "Precision Score :  0.96575\n",
      "Testing F-1: 0.96575\n",
      "Testing F-Beta: 0.9657499999999999\n",
      "------------------------------\n",
      "Training Model DT \n",
      "--------------\n"
     ]
    },
    {
     "name": "stderr",
     "output_type": "stream",
     "text": [
      "C:\\Users\\JOVIALN\\AppData\\Roaming\\Python\\Python39\\site-packages\\sklearn\\metrics\\_classification.py:1386: UserWarning: Note that pos_label (set to 'positive') is ignored when average != 'binary' (got 'micro'). You may use labels=[pos_label] to specify a single positive class.\n",
      "  labels = [pos_label]\n",
      "C:\\Users\\JOVIALN\\AppData\\Roaming\\Python\\Python39\\site-packages\\sklearn\\metrics\\_classification.py:1386: UserWarning: Note that pos_label (set to 'positive') is ignored when average != 'binary' (got 'micro'). You may use labels=[pos_label] to specify a single positive class.\n",
      "  labels = [pos_label]\n",
      "C:\\Users\\JOVIALN\\AppData\\Roaming\\Python\\Python39\\site-packages\\sklearn\\metrics\\_classification.py:1386: UserWarning: Note that pos_label (set to 'positive') is ignored when average != 'binary' (got 'micro'). You may use labels=[pos_label] to specify a single positive class.\n",
      "  labels = [pos_label]\n",
      "C:\\Users\\JOVIALN\\AppData\\Roaming\\Python\\Python39\\site-packages\\sklearn\\metrics\\_classification.py:1386: UserWarning: Note that pos_label (set to 'positive') is ignored when average != 'binary' (got 'micro'). You may use labels=[pos_label] to specify a single positive class.\n",
      "  labels = [pos_label]\n"
     ]
    },
    {
     "name": "stdout",
     "output_type": "stream",
     "text": [
      "Training Accuracy: 1.0\n",
      "Testing Accuracy: 0.91325\n",
      "Testing Confusion Matrix: \n",
      "[[1890   50   38   22]\n",
      " [ 347 1585   50   18]\n",
      " [  93   15 1871   21]\n",
      " [  29    1   10 1960]]\n",
      "Recall Score :  0.91325\n",
      "Precision Score :  0.91325\n",
      "Testing F-1: 0.91325\n",
      "Testing F-Beta: 0.9132500000000001\n",
      "------------------------------\n",
      "Training Model RF \n",
      "--------------\n"
     ]
    },
    {
     "name": "stderr",
     "output_type": "stream",
     "text": [
      "C:\\Users\\JOVIALN\\AppData\\Roaming\\Python\\Python39\\site-packages\\sklearn\\metrics\\_classification.py:1386: UserWarning: Note that pos_label (set to 'positive') is ignored when average != 'binary' (got 'micro'). You may use labels=[pos_label] to specify a single positive class.\n",
      "  labels = [pos_label]\n",
      "C:\\Users\\JOVIALN\\AppData\\Roaming\\Python\\Python39\\site-packages\\sklearn\\metrics\\_classification.py:1386: UserWarning: Note that pos_label (set to 'positive') is ignored when average != 'binary' (got 'micro'). You may use labels=[pos_label] to specify a single positive class.\n",
      "  labels = [pos_label]\n",
      "C:\\Users\\JOVIALN\\AppData\\Roaming\\Python\\Python39\\site-packages\\sklearn\\metrics\\_classification.py:1386: UserWarning: Note that pos_label (set to 'positive') is ignored when average != 'binary' (got 'micro'). You may use labels=[pos_label] to specify a single positive class.\n",
      "  labels = [pos_label]\n",
      "C:\\Users\\JOVIALN\\AppData\\Roaming\\Python\\Python39\\site-packages\\sklearn\\metrics\\_classification.py:1386: UserWarning: Note that pos_label (set to 'positive') is ignored when average != 'binary' (got 'micro'). You may use labels=[pos_label] to specify a single positive class.\n",
      "  labels = [pos_label]\n"
     ]
    },
    {
     "name": "stdout",
     "output_type": "stream",
     "text": [
      "Training Accuracy: 0.9999875\n",
      "Testing Accuracy: 0.95125\n",
      "Testing Confusion Matrix: \n",
      "[[1984   10    5    1]\n",
      " [ 272 1697   28    3]\n",
      " [  47    0 1946    7]\n",
      " [  16    0    1 1983]]\n",
      "Recall Score :  0.95125\n",
      "Precision Score :  0.95125\n",
      "Testing F-1: 0.95125\n",
      "Testing F-Beta: 0.95125\n",
      "------------------------------\n",
      "Training Model XGB \n",
      "--------------\n"
     ]
    },
    {
     "name": "stderr",
     "output_type": "stream",
     "text": [
      "C:\\Users\\JOVIALN\\AppData\\Roaming\\Python\\Python39\\site-packages\\sklearn\\metrics\\_classification.py:1386: UserWarning: Note that pos_label (set to 'positive') is ignored when average != 'binary' (got 'micro'). You may use labels=[pos_label] to specify a single positive class.\n",
      "  labels = [pos_label]\n",
      "C:\\Users\\JOVIALN\\AppData\\Roaming\\Python\\Python39\\site-packages\\sklearn\\metrics\\_classification.py:1386: UserWarning: Note that pos_label (set to 'positive') is ignored when average != 'binary' (got 'micro'). You may use labels=[pos_label] to specify a single positive class.\n",
      "  labels = [pos_label]\n",
      "C:\\Users\\JOVIALN\\AppData\\Roaming\\Python\\Python39\\site-packages\\sklearn\\metrics\\_classification.py:1386: UserWarning: Note that pos_label (set to 'positive') is ignored when average != 'binary' (got 'micro'). You may use labels=[pos_label] to specify a single positive class.\n",
      "  labels = [pos_label]\n",
      "C:\\Users\\JOVIALN\\AppData\\Roaming\\Python\\Python39\\site-packages\\sklearn\\metrics\\_classification.py:1386: UserWarning: Note that pos_label (set to 'positive') is ignored when average != 'binary' (got 'micro'). You may use labels=[pos_label] to specify a single positive class.\n",
      "  labels = [pos_label]\n"
     ]
    },
    {
     "name": "stdout",
     "output_type": "stream",
     "text": [
      "Training Accuracy: 0.9996\n",
      "Testing Accuracy: 0.956875\n",
      "Testing Confusion Matrix: \n",
      "[[1960   22   15    3]\n",
      " [ 225 1742   29    4]\n",
      " [  32    1 1961    6]\n",
      " [   3    4    1 1992]]\n",
      "Recall Score :  0.956875\n",
      "Precision Score :  0.956875\n",
      "Testing F-1: 0.956875\n",
      "Testing F-Beta: 0.9568749999999999\n",
      "------------------------------\n",
      "Training Model Naive Bayes \n",
      "--------------\n"
     ]
    },
    {
     "name": "stderr",
     "output_type": "stream",
     "text": [
      "C:\\Users\\JOVIALN\\AppData\\Roaming\\Python\\Python39\\site-packages\\sklearn\\metrics\\_classification.py:1386: UserWarning: Note that pos_label (set to 'positive') is ignored when average != 'binary' (got 'micro'). You may use labels=[pos_label] to specify a single positive class.\n",
      "  labels = [pos_label]\n",
      "C:\\Users\\JOVIALN\\AppData\\Roaming\\Python\\Python39\\site-packages\\sklearn\\metrics\\_classification.py:1386: UserWarning: Note that pos_label (set to 'positive') is ignored when average != 'binary' (got 'micro'). You may use labels=[pos_label] to specify a single positive class.\n",
      "  labels = [pos_label]\n",
      "C:\\Users\\JOVIALN\\AppData\\Roaming\\Python\\Python39\\site-packages\\sklearn\\metrics\\_classification.py:1386: UserWarning: Note that pos_label (set to 'positive') is ignored when average != 'binary' (got 'micro'). You may use labels=[pos_label] to specify a single positive class.\n",
      "  labels = [pos_label]\n",
      "C:\\Users\\JOVIALN\\AppData\\Roaming\\Python\\Python39\\site-packages\\sklearn\\metrics\\_classification.py:1386: UserWarning: Note that pos_label (set to 'positive') is ignored when average != 'binary' (got 'micro'). You may use labels=[pos_label] to specify a single positive class.\n",
      "  labels = [pos_label]\n"
     ]
    },
    {
     "name": "stdout",
     "output_type": "stream",
     "text": [
      "Training Accuracy: 0.3477125\n",
      "Testing Accuracy: 0.352125\n",
      "Testing Confusion Matrix: \n",
      "[[ 243    4  140 1613]\n",
      " [ 102  179  270 1449]\n",
      " [ 157    8  399 1436]\n",
      " [   1    0    3 1996]]\n",
      "Recall Score :  0.352125\n",
      "Precision Score :  0.352125\n",
      "Testing F-1: 0.352125\n",
      "Testing F-Beta: 0.352125\n",
      "------------------------------\n",
      "Training Model SVC \n",
      "--------------\n"
     ]
    },
    {
     "name": "stderr",
     "output_type": "stream",
     "text": [
      "C:\\Users\\JOVIALN\\AppData\\Roaming\\Python\\Python39\\site-packages\\sklearn\\metrics\\_classification.py:1386: UserWarning: Note that pos_label (set to 'positive') is ignored when average != 'binary' (got 'micro'). You may use labels=[pos_label] to specify a single positive class.\n",
      "  labels = [pos_label]\n",
      "C:\\Users\\JOVIALN\\AppData\\Roaming\\Python\\Python39\\site-packages\\sklearn\\metrics\\_classification.py:1386: UserWarning: Note that pos_label (set to 'positive') is ignored when average != 'binary' (got 'micro'). You may use labels=[pos_label] to specify a single positive class.\n",
      "  labels = [pos_label]\n",
      "C:\\Users\\JOVIALN\\AppData\\Roaming\\Python\\Python39\\site-packages\\sklearn\\metrics\\_classification.py:1386: UserWarning: Note that pos_label (set to 'positive') is ignored when average != 'binary' (got 'micro'). You may use labels=[pos_label] to specify a single positive class.\n",
      "  labels = [pos_label]\n",
      "C:\\Users\\JOVIALN\\AppData\\Roaming\\Python\\Python39\\site-packages\\sklearn\\metrics\\_classification.py:1386: UserWarning: Note that pos_label (set to 'positive') is ignored when average != 'binary' (got 'micro'). You may use labels=[pos_label] to specify a single positive class.\n",
      "  labels = [pos_label]\n"
     ]
    },
    {
     "name": "stdout",
     "output_type": "stream",
     "text": [
      "Training Accuracy: 0.9555\n",
      "Testing Accuracy: 0.944875\n",
      "Testing Confusion Matrix: \n",
      "[[1887   77   26   10]\n",
      " [ 236 1740   24    0]\n",
      " [  37    7 1955    1]\n",
      " [  10    8    5 1977]]\n",
      "Recall Score :  0.944875\n",
      "Precision Score :  0.944875\n",
      "Testing F-1: 0.9448750000000001\n",
      "Testing F-Beta: 0.944875\n",
      "------------------------------\n"
     ]
    },
    {
     "name": "stderr",
     "output_type": "stream",
     "text": [
      "C:\\Users\\JOVIALN\\AppData\\Roaming\\Python\\Python39\\site-packages\\sklearn\\metrics\\_classification.py:1386: UserWarning: Note that pos_label (set to 'positive') is ignored when average != 'binary' (got 'micro'). You may use labels=[pos_label] to specify a single positive class.\n",
      "  labels = [pos_label]\n",
      "C:\\Users\\JOVIALN\\AppData\\Roaming\\Python\\Python39\\site-packages\\sklearn\\metrics\\_classification.py:1386: UserWarning: Note that pos_label (set to 'positive') is ignored when average != 'binary' (got 'micro'). You may use labels=[pos_label] to specify a single positive class.\n",
      "  labels = [pos_label]\n",
      "C:\\Users\\JOVIALN\\AppData\\Roaming\\Python\\Python39\\site-packages\\sklearn\\metrics\\_classification.py:1386: UserWarning: Note that pos_label (set to 'positive') is ignored when average != 'binary' (got 'micro'). You may use labels=[pos_label] to specify a single positive class.\n",
      "  labels = [pos_label]\n",
      "C:\\Users\\JOVIALN\\AppData\\Roaming\\Python\\Python39\\site-packages\\sklearn\\metrics\\_classification.py:1386: UserWarning: Note that pos_label (set to 'positive') is ignored when average != 'binary' (got 'micro'). You may use labels=[pos_label] to specify a single positive class.\n",
      "  labels = [pos_label]\n"
     ]
    }
   ],
   "source": [
    "for name, model in models.items():\n",
    "    print(f'Training Model {name} \\n--------------')\n",
    "    model.fit(X_train, y_train)\n",
    "    y_pred = model.predict(X_test)\n",
    "    print(f'Training Accuracy: {accuracy_score(y_train, model.predict(X_train))}')\n",
    "    print(f'Testing Accuracy: {accuracy_score(y_test, y_pred)}')\n",
    "    print(f'Testing Confusion Matrix: \\n{confusion_matrix(y_test, y_pred)}')\n",
    "    print(\"Recall Score : \",recall_score(y_test, y_pred, pos_label='positive', average='micro'))    \n",
    "    print(\"Precision Score : \",precision_score(y_test, y_pred,  pos_label='positive',average='micro'))     \n",
    "    \n",
    "    \n",
    "    print(f\"Testing F-1:\", f1_score(y_test, y_pred, pos_label='positive', average='micro' )        )\n",
    "    \n",
    "    \n",
    "    \n",
    "    print(f\"Testing F-Beta:\", fbeta_score(y_test, y_pred, beta=0.5, pos_label='positive', average='micro'))\n",
    "    print('-'*30)"
   ]
  },
  {
   "cell_type": "code",
   "execution_count": null,
   "id": "d23dae2e",
   "metadata": {},
   "outputs": [],
   "source": []
  }
 ],
 "metadata": {
  "kernelspec": {
   "display_name": "Python 3 (ipykernel)",
   "language": "python",
   "name": "python3"
  },
  "language_info": {
   "codemirror_mode": {
    "name": "ipython",
    "version": 3
   },
   "file_extension": ".py",
   "mimetype": "text/x-python",
   "name": "python",
   "nbconvert_exporter": "python",
   "pygments_lexer": "ipython3",
   "version": "3.10.9"
  },
  "papermill": {
   "default_parameters": {},
   "duration": 2919.765871,
   "end_time": "2022-09-08T14:01:51.073702",
   "environment_variables": {},
   "exception": null,
   "input_path": "__notebook__.ipynb",
   "output_path": "__notebook__.ipynb",
   "parameters": {},
   "start_time": "2022-09-08T13:13:11.307831",
   "version": "2.3.3"
  }
 },
 "nbformat": 4,
 "nbformat_minor": 5
}
